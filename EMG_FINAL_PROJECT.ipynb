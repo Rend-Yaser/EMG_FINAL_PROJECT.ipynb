{
  "nbformat": 4,
  "nbformat_minor": 0,
  "metadata": {
    "colab": {
      "name": "EMG FINAL PROJECT",
      "provenance": [],
      "collapsed_sections": [],
      "toc_visible": true,
      "authorship_tag": "ABX9TyNHtYnMX6FzoSrff/x1kt71",
      "include_colab_link": true
    },
    "kernelspec": {
      "display_name": "Python 3",
      "name": "python3"
    },
    "language_info": {
      "name": "python"
    },
    "accelerator": "GPU"
  },
  "cells": [
    {
      "cell_type": "markdown",
      "metadata": {
        "id": "view-in-github",
        "colab_type": "text"
      },
      "source": [
        "<a href=\"https://colab.research.google.com/github/Rend-Yaser/EMG_FINAL_PROJECT.ipynb/blob/main/EMG_FINAL_PROJECT.ipynb\" target=\"_parent\"><img src=\"https://colab.research.google.com/assets/colab-badge.svg\" alt=\"Open In Colab\"/></a>"
      ]
    },
    {
      "cell_type": "markdown",
      "metadata": {
        "id": "aYwnPPETBGxi"
      },
      "source": [
        "#Import Libs"
      ]
    },
    {
      "cell_type": "code",
      "metadata": {
        "id": "PPsiNy8APXPr"
      },
      "source": [
        "import tensorflow as tf \n",
        "import numpy as np \n",
        "import matplotlib.pyplot as plt\n",
        "from sklearn import metrics,model_selection,preprocessing,svm,datasets\n",
        "import pandas as pd\n",
        "\n",
        "from sklearn.tree import DecisionTreeClassifier\n",
        "from sklearn.neighbors import KNeighborsClassifier\n",
        "from sklearn.ensemble import RandomForestClassifier\n",
        "from sklearn.model_selection import train_test_split\n",
        "from sklearn.metrics import plot_confusion_matrix\n"
      ],
      "execution_count": null,
      "outputs": []
    },
    {
      "cell_type": "markdown",
      "metadata": {
        "id": "E6lvL_Fh0TM-"
      },
      "source": [
        "#  Load Kaggle Datasets"
      ]
    },
    {
      "cell_type": "code",
      "metadata": {
        "colab": {
          "base_uri": "https://localhost:8080/"
        },
        "id": "zuUILB02qS1l",
        "outputId": "20b51c92-e9fa-4a95-c65c-5428975b1695"
      },
      "source": [
        "! pip install kaggle\n"
      ],
      "execution_count": null,
      "outputs": [
        {
          "output_type": "stream",
          "name": "stdout",
          "text": [
            "Requirement already satisfied: kaggle in /usr/local/lib/python3.7/dist-packages (1.5.12)\n",
            "Requirement already satisfied: six>=1.10 in /usr/local/lib/python3.7/dist-packages (from kaggle) (1.15.0)\n",
            "Requirement already satisfied: requests in /usr/local/lib/python3.7/dist-packages (from kaggle) (2.23.0)\n",
            "Requirement already satisfied: urllib3 in /usr/local/lib/python3.7/dist-packages (from kaggle) (1.24.3)\n",
            "Requirement already satisfied: tqdm in /usr/local/lib/python3.7/dist-packages (from kaggle) (4.62.3)\n",
            "Requirement already satisfied: python-dateutil in /usr/local/lib/python3.7/dist-packages (from kaggle) (2.8.2)\n",
            "Requirement already satisfied: python-slugify in /usr/local/lib/python3.7/dist-packages (from kaggle) (5.0.2)\n",
            "Requirement already satisfied: certifi in /usr/local/lib/python3.7/dist-packages (from kaggle) (2021.5.30)\n",
            "Requirement already satisfied: text-unidecode>=1.3 in /usr/local/lib/python3.7/dist-packages (from python-slugify->kaggle) (1.3)\n",
            "Requirement already satisfied: chardet<4,>=3.0.2 in /usr/local/lib/python3.7/dist-packages (from requests->kaggle) (3.0.4)\n",
            "Requirement already satisfied: idna<3,>=2.5 in /usr/local/lib/python3.7/dist-packages (from requests->kaggle) (2.10)\n"
          ]
        }
      ]
    },
    {
      "cell_type": "code",
      "metadata": {
        "colab": {
          "base_uri": "https://localhost:8080/"
        },
        "id": "zHe1sSzvz6CY",
        "outputId": "d7d8bf94-1051-4b4b-d574-342322a8321e"
      },
      "source": [
        "! mkdir ~/.kaggle\n"
      ],
      "execution_count": null,
      "outputs": [
        {
          "output_type": "stream",
          "name": "stdout",
          "text": [
            "mkdir: cannot create directory ‘/root/.kaggle’: File exists\n"
          ]
        }
      ]
    },
    {
      "cell_type": "code",
      "metadata": {
        "id": "b_voRLFb0A2Z"
      },
      "source": [
        "! cp kaggle.json ~/.kaggle/\n"
      ],
      "execution_count": null,
      "outputs": []
    },
    {
      "cell_type": "code",
      "metadata": {
        "id": "c91m_9cg0HHb"
      },
      "source": [
        "! chmod 600 ~/.kaggle/kaggle.json\n"
      ],
      "execution_count": null,
      "outputs": []
    },
    {
      "cell_type": "code",
      "metadata": {
        "colab": {
          "base_uri": "https://localhost:8080/"
        },
        "id": "ee3qDusW1yXS",
        "outputId": "44ed1fec-e0c4-401d-8d18-6a564d8e91fc"
      },
      "source": [
        "! kaggle datasets download sojanprajapati/emg-signal-for-gesture-recognition"
      ],
      "execution_count": null,
      "outputs": [
        {
          "output_type": "stream",
          "name": "stdout",
          "text": [
            "emg-signal-for-gesture-recognition.zip: Skipping, found more recently modified local copy (use --force to force download)\n"
          ]
        }
      ]
    },
    {
      "cell_type": "markdown",
      "metadata": {
        "id": "lnajKkEK00aH"
      },
      "source": [
        "#Read CSV file into a DataFrame"
      ]
    },
    {
      "cell_type": "code",
      "metadata": {
        "colab": {
          "base_uri": "https://localhost:8080/"
        },
        "id": "yKhMmJoF5XCV",
        "outputId": "8692daa2-f8af-4327-dc50-59d2b585c531"
      },
      "source": [
        "\n",
        "! unzip /content/emg-signal-for-gesture-recognition.zip"
      ],
      "execution_count": null,
      "outputs": [
        {
          "output_type": "stream",
          "name": "stdout",
          "text": [
            "Archive:  /content/emg-signal-for-gesture-recognition.zip\n",
            "replace EMG-data.csv? [y]es, [n]o, [A]ll, [N]one, [r]ename: "
          ]
        }
      ]
    },
    {
      "cell_type": "code",
      "metadata": {
        "colab": {
          "base_uri": "https://localhost:8080/",
          "height": 414
        },
        "id": "UHDITJefMY7r",
        "outputId": "c762d12d-72b5-4437-85d0-9390ae1bc9fc"
      },
      "source": [
        "df=pd.read_csv('/content/EMG-data.csv')\n",
        "df"
      ],
      "execution_count": null,
      "outputs": [
        {
          "output_type": "execute_result",
          "data": {
            "text/html": [
              "<div>\n",
              "<style scoped>\n",
              "    .dataframe tbody tr th:only-of-type {\n",
              "        vertical-align: middle;\n",
              "    }\n",
              "\n",
              "    .dataframe tbody tr th {\n",
              "        vertical-align: top;\n",
              "    }\n",
              "\n",
              "    .dataframe thead th {\n",
              "        text-align: right;\n",
              "    }\n",
              "</style>\n",
              "<table border=\"1\" class=\"dataframe\">\n",
              "  <thead>\n",
              "    <tr style=\"text-align: right;\">\n",
              "      <th></th>\n",
              "      <th>time</th>\n",
              "      <th>channel1</th>\n",
              "      <th>channel2</th>\n",
              "      <th>channel3</th>\n",
              "      <th>channel4</th>\n",
              "      <th>channel5</th>\n",
              "      <th>channel6</th>\n",
              "      <th>channel7</th>\n",
              "      <th>channel8</th>\n",
              "      <th>class</th>\n",
              "      <th>label</th>\n",
              "    </tr>\n",
              "  </thead>\n",
              "  <tbody>\n",
              "    <tr>\n",
              "      <th>0</th>\n",
              "      <td>1</td>\n",
              "      <td>0.00001</td>\n",
              "      <td>-0.00002</td>\n",
              "      <td>-0.00001</td>\n",
              "      <td>-0.00003</td>\n",
              "      <td>0.00000</td>\n",
              "      <td>-0.00001</td>\n",
              "      <td>0.00000</td>\n",
              "      <td>-0.00001</td>\n",
              "      <td>0</td>\n",
              "      <td>1</td>\n",
              "    </tr>\n",
              "    <tr>\n",
              "      <th>1</th>\n",
              "      <td>5</td>\n",
              "      <td>0.00001</td>\n",
              "      <td>-0.00002</td>\n",
              "      <td>-0.00001</td>\n",
              "      <td>-0.00003</td>\n",
              "      <td>0.00000</td>\n",
              "      <td>-0.00001</td>\n",
              "      <td>0.00000</td>\n",
              "      <td>-0.00001</td>\n",
              "      <td>0</td>\n",
              "      <td>1</td>\n",
              "    </tr>\n",
              "    <tr>\n",
              "      <th>2</th>\n",
              "      <td>6</td>\n",
              "      <td>-0.00001</td>\n",
              "      <td>0.00001</td>\n",
              "      <td>0.00002</td>\n",
              "      <td>0.00000</td>\n",
              "      <td>0.00001</td>\n",
              "      <td>-0.00002</td>\n",
              "      <td>-0.00001</td>\n",
              "      <td>0.00001</td>\n",
              "      <td>0</td>\n",
              "      <td>1</td>\n",
              "    </tr>\n",
              "    <tr>\n",
              "      <th>3</th>\n",
              "      <td>7</td>\n",
              "      <td>-0.00001</td>\n",
              "      <td>0.00001</td>\n",
              "      <td>0.00002</td>\n",
              "      <td>0.00000</td>\n",
              "      <td>0.00001</td>\n",
              "      <td>-0.00002</td>\n",
              "      <td>-0.00001</td>\n",
              "      <td>0.00001</td>\n",
              "      <td>0</td>\n",
              "      <td>1</td>\n",
              "    </tr>\n",
              "    <tr>\n",
              "      <th>4</th>\n",
              "      <td>8</td>\n",
              "      <td>-0.00001</td>\n",
              "      <td>0.00001</td>\n",
              "      <td>0.00002</td>\n",
              "      <td>0.00000</td>\n",
              "      <td>0.00001</td>\n",
              "      <td>-0.00002</td>\n",
              "      <td>-0.00001</td>\n",
              "      <td>0.00001</td>\n",
              "      <td>0</td>\n",
              "      <td>1</td>\n",
              "    </tr>\n",
              "    <tr>\n",
              "      <th>...</th>\n",
              "      <td>...</td>\n",
              "      <td>...</td>\n",
              "      <td>...</td>\n",
              "      <td>...</td>\n",
              "      <td>...</td>\n",
              "      <td>...</td>\n",
              "      <td>...</td>\n",
              "      <td>...</td>\n",
              "      <td>...</td>\n",
              "      <td>...</td>\n",
              "      <td>...</td>\n",
              "    </tr>\n",
              "    <tr>\n",
              "      <th>4237902</th>\n",
              "      <td>50962</td>\n",
              "      <td>0.00001</td>\n",
              "      <td>-0.00001</td>\n",
              "      <td>-0.00002</td>\n",
              "      <td>-0.00004</td>\n",
              "      <td>-0.00012</td>\n",
              "      <td>0.00000</td>\n",
              "      <td>0.00002</td>\n",
              "      <td>0.00002</td>\n",
              "      <td>0</td>\n",
              "      <td>36</td>\n",
              "    </tr>\n",
              "    <tr>\n",
              "      <th>4237903</th>\n",
              "      <td>50963</td>\n",
              "      <td>0.00001</td>\n",
              "      <td>-0.00001</td>\n",
              "      <td>-0.00002</td>\n",
              "      <td>-0.00004</td>\n",
              "      <td>-0.00012</td>\n",
              "      <td>0.00000</td>\n",
              "      <td>0.00002</td>\n",
              "      <td>0.00002</td>\n",
              "      <td>0</td>\n",
              "      <td>36</td>\n",
              "    </tr>\n",
              "    <tr>\n",
              "      <th>4237904</th>\n",
              "      <td>50964</td>\n",
              "      <td>0.00001</td>\n",
              "      <td>-0.00001</td>\n",
              "      <td>-0.00002</td>\n",
              "      <td>-0.00004</td>\n",
              "      <td>-0.00012</td>\n",
              "      <td>0.00000</td>\n",
              "      <td>0.00002</td>\n",
              "      <td>0.00002</td>\n",
              "      <td>0</td>\n",
              "      <td>36</td>\n",
              "    </tr>\n",
              "    <tr>\n",
              "      <th>4237905</th>\n",
              "      <td>50965</td>\n",
              "      <td>0.00001</td>\n",
              "      <td>-0.00001</td>\n",
              "      <td>-0.00002</td>\n",
              "      <td>-0.00004</td>\n",
              "      <td>-0.00012</td>\n",
              "      <td>0.00000</td>\n",
              "      <td>0.00002</td>\n",
              "      <td>0.00002</td>\n",
              "      <td>0</td>\n",
              "      <td>36</td>\n",
              "    </tr>\n",
              "    <tr>\n",
              "      <th>4237906</th>\n",
              "      <td>50966</td>\n",
              "      <td>0.00001</td>\n",
              "      <td>-0.00001</td>\n",
              "      <td>-0.00002</td>\n",
              "      <td>-0.00004</td>\n",
              "      <td>-0.00012</td>\n",
              "      <td>0.00000</td>\n",
              "      <td>0.00002</td>\n",
              "      <td>0.00002</td>\n",
              "      <td>0</td>\n",
              "      <td>36</td>\n",
              "    </tr>\n",
              "  </tbody>\n",
              "</table>\n",
              "<p>4237907 rows × 11 columns</p>\n",
              "</div>"
            ],
            "text/plain": [
              "          time  channel1  channel2  channel3  ...  channel7  channel8  class  label\n",
              "0            1   0.00001  -0.00002  -0.00001  ...   0.00000  -0.00001      0      1\n",
              "1            5   0.00001  -0.00002  -0.00001  ...   0.00000  -0.00001      0      1\n",
              "2            6  -0.00001   0.00001   0.00002  ...  -0.00001   0.00001      0      1\n",
              "3            7  -0.00001   0.00001   0.00002  ...  -0.00001   0.00001      0      1\n",
              "4            8  -0.00001   0.00001   0.00002  ...  -0.00001   0.00001      0      1\n",
              "...        ...       ...       ...       ...  ...       ...       ...    ...    ...\n",
              "4237902  50962   0.00001  -0.00001  -0.00002  ...   0.00002   0.00002      0     36\n",
              "4237903  50963   0.00001  -0.00001  -0.00002  ...   0.00002   0.00002      0     36\n",
              "4237904  50964   0.00001  -0.00001  -0.00002  ...   0.00002   0.00002      0     36\n",
              "4237905  50965   0.00001  -0.00001  -0.00002  ...   0.00002   0.00002      0     36\n",
              "4237906  50966   0.00001  -0.00001  -0.00002  ...   0.00002   0.00002      0     36\n",
              "\n",
              "[4237907 rows x 11 columns]"
            ]
          },
          "metadata": {},
          "execution_count": 63
        }
      ]
    },
    {
      "cell_type": "markdown",
      "metadata": {
        "id": "LRrXd2JW1he7"
      },
      "source": [
        "#preprocessing steps"
      ]
    },
    {
      "cell_type": "code",
      "metadata": {
        "colab": {
          "base_uri": "https://localhost:8080/"
        },
        "id": "mk1YifoYAy7P",
        "outputId": "13c0a630-4e24-46cb-f7dc-6f8e6e67b12b"
      },
      "source": [
        "df['class'].value_counts()"
      ],
      "execution_count": null,
      "outputs": [
        {
          "output_type": "execute_result",
          "data": {
            "text/plain": [
              "0    2725157\n",
              "6     253009\n",
              "5     251733\n",
              "4     251570\n",
              "1     250055\n",
              "3     249494\n",
              "2     243193\n",
              "7      13696\n",
              "Name: class, dtype: int64"
            ]
          },
          "metadata": {},
          "execution_count": 64
        }
      ]
    },
    {
      "cell_type": "code",
      "metadata": {
        "id": "90M9uxFTPrkZ",
        "colab": {
          "base_uri": "https://localhost:8080/",
          "height": 414
        },
        "outputId": "a02ac283-76a4-46f0-862c-017e376a3672"
      },
      "source": [
        "df=df.drop(columns=['label','time'])\n",
        "df"
      ],
      "execution_count": null,
      "outputs": [
        {
          "output_type": "execute_result",
          "data": {
            "text/html": [
              "<div>\n",
              "<style scoped>\n",
              "    .dataframe tbody tr th:only-of-type {\n",
              "        vertical-align: middle;\n",
              "    }\n",
              "\n",
              "    .dataframe tbody tr th {\n",
              "        vertical-align: top;\n",
              "    }\n",
              "\n",
              "    .dataframe thead th {\n",
              "        text-align: right;\n",
              "    }\n",
              "</style>\n",
              "<table border=\"1\" class=\"dataframe\">\n",
              "  <thead>\n",
              "    <tr style=\"text-align: right;\">\n",
              "      <th></th>\n",
              "      <th>channel1</th>\n",
              "      <th>channel2</th>\n",
              "      <th>channel3</th>\n",
              "      <th>channel4</th>\n",
              "      <th>channel5</th>\n",
              "      <th>channel6</th>\n",
              "      <th>channel7</th>\n",
              "      <th>channel8</th>\n",
              "      <th>class</th>\n",
              "    </tr>\n",
              "  </thead>\n",
              "  <tbody>\n",
              "    <tr>\n",
              "      <th>0</th>\n",
              "      <td>0.00001</td>\n",
              "      <td>-0.00002</td>\n",
              "      <td>-0.00001</td>\n",
              "      <td>-0.00003</td>\n",
              "      <td>0.00000</td>\n",
              "      <td>-0.00001</td>\n",
              "      <td>0.00000</td>\n",
              "      <td>-0.00001</td>\n",
              "      <td>0</td>\n",
              "    </tr>\n",
              "    <tr>\n",
              "      <th>1</th>\n",
              "      <td>0.00001</td>\n",
              "      <td>-0.00002</td>\n",
              "      <td>-0.00001</td>\n",
              "      <td>-0.00003</td>\n",
              "      <td>0.00000</td>\n",
              "      <td>-0.00001</td>\n",
              "      <td>0.00000</td>\n",
              "      <td>-0.00001</td>\n",
              "      <td>0</td>\n",
              "    </tr>\n",
              "    <tr>\n",
              "      <th>2</th>\n",
              "      <td>-0.00001</td>\n",
              "      <td>0.00001</td>\n",
              "      <td>0.00002</td>\n",
              "      <td>0.00000</td>\n",
              "      <td>0.00001</td>\n",
              "      <td>-0.00002</td>\n",
              "      <td>-0.00001</td>\n",
              "      <td>0.00001</td>\n",
              "      <td>0</td>\n",
              "    </tr>\n",
              "    <tr>\n",
              "      <th>3</th>\n",
              "      <td>-0.00001</td>\n",
              "      <td>0.00001</td>\n",
              "      <td>0.00002</td>\n",
              "      <td>0.00000</td>\n",
              "      <td>0.00001</td>\n",
              "      <td>-0.00002</td>\n",
              "      <td>-0.00001</td>\n",
              "      <td>0.00001</td>\n",
              "      <td>0</td>\n",
              "    </tr>\n",
              "    <tr>\n",
              "      <th>4</th>\n",
              "      <td>-0.00001</td>\n",
              "      <td>0.00001</td>\n",
              "      <td>0.00002</td>\n",
              "      <td>0.00000</td>\n",
              "      <td>0.00001</td>\n",
              "      <td>-0.00002</td>\n",
              "      <td>-0.00001</td>\n",
              "      <td>0.00001</td>\n",
              "      <td>0</td>\n",
              "    </tr>\n",
              "    <tr>\n",
              "      <th>...</th>\n",
              "      <td>...</td>\n",
              "      <td>...</td>\n",
              "      <td>...</td>\n",
              "      <td>...</td>\n",
              "      <td>...</td>\n",
              "      <td>...</td>\n",
              "      <td>...</td>\n",
              "      <td>...</td>\n",
              "      <td>...</td>\n",
              "    </tr>\n",
              "    <tr>\n",
              "      <th>4237902</th>\n",
              "      <td>0.00001</td>\n",
              "      <td>-0.00001</td>\n",
              "      <td>-0.00002</td>\n",
              "      <td>-0.00004</td>\n",
              "      <td>-0.00012</td>\n",
              "      <td>0.00000</td>\n",
              "      <td>0.00002</td>\n",
              "      <td>0.00002</td>\n",
              "      <td>0</td>\n",
              "    </tr>\n",
              "    <tr>\n",
              "      <th>4237903</th>\n",
              "      <td>0.00001</td>\n",
              "      <td>-0.00001</td>\n",
              "      <td>-0.00002</td>\n",
              "      <td>-0.00004</td>\n",
              "      <td>-0.00012</td>\n",
              "      <td>0.00000</td>\n",
              "      <td>0.00002</td>\n",
              "      <td>0.00002</td>\n",
              "      <td>0</td>\n",
              "    </tr>\n",
              "    <tr>\n",
              "      <th>4237904</th>\n",
              "      <td>0.00001</td>\n",
              "      <td>-0.00001</td>\n",
              "      <td>-0.00002</td>\n",
              "      <td>-0.00004</td>\n",
              "      <td>-0.00012</td>\n",
              "      <td>0.00000</td>\n",
              "      <td>0.00002</td>\n",
              "      <td>0.00002</td>\n",
              "      <td>0</td>\n",
              "    </tr>\n",
              "    <tr>\n",
              "      <th>4237905</th>\n",
              "      <td>0.00001</td>\n",
              "      <td>-0.00001</td>\n",
              "      <td>-0.00002</td>\n",
              "      <td>-0.00004</td>\n",
              "      <td>-0.00012</td>\n",
              "      <td>0.00000</td>\n",
              "      <td>0.00002</td>\n",
              "      <td>0.00002</td>\n",
              "      <td>0</td>\n",
              "    </tr>\n",
              "    <tr>\n",
              "      <th>4237906</th>\n",
              "      <td>0.00001</td>\n",
              "      <td>-0.00001</td>\n",
              "      <td>-0.00002</td>\n",
              "      <td>-0.00004</td>\n",
              "      <td>-0.00012</td>\n",
              "      <td>0.00000</td>\n",
              "      <td>0.00002</td>\n",
              "      <td>0.00002</td>\n",
              "      <td>0</td>\n",
              "    </tr>\n",
              "  </tbody>\n",
              "</table>\n",
              "<p>4237907 rows × 9 columns</p>\n",
              "</div>"
            ],
            "text/plain": [
              "         channel1  channel2  channel3  ...  channel7  channel8  class\n",
              "0         0.00001  -0.00002  -0.00001  ...   0.00000  -0.00001      0\n",
              "1         0.00001  -0.00002  -0.00001  ...   0.00000  -0.00001      0\n",
              "2        -0.00001   0.00001   0.00002  ...  -0.00001   0.00001      0\n",
              "3        -0.00001   0.00001   0.00002  ...  -0.00001   0.00001      0\n",
              "4        -0.00001   0.00001   0.00002  ...  -0.00001   0.00001      0\n",
              "...           ...       ...       ...  ...       ...       ...    ...\n",
              "4237902   0.00001  -0.00001  -0.00002  ...   0.00002   0.00002      0\n",
              "4237903   0.00001  -0.00001  -0.00002  ...   0.00002   0.00002      0\n",
              "4237904   0.00001  -0.00001  -0.00002  ...   0.00002   0.00002      0\n",
              "4237905   0.00001  -0.00001  -0.00002  ...   0.00002   0.00002      0\n",
              "4237906   0.00001  -0.00001  -0.00002  ...   0.00002   0.00002      0\n",
              "\n",
              "[4237907 rows x 9 columns]"
            ]
          },
          "metadata": {},
          "execution_count": 65
        }
      ]
    },
    {
      "cell_type": "code",
      "metadata": {
        "colab": {
          "base_uri": "https://localhost:8080/",
          "height": 414
        },
        "id": "10Ii0aonRBBq",
        "outputId": "0537bfac-493c-45eb-b4b3-764f8a21f2a9"
      },
      "source": [
        "df1=df.sample(frac = 1).loc[df['class'] == 0]\n",
        "df1\n"
      ],
      "execution_count": null,
      "outputs": [
        {
          "output_type": "execute_result",
          "data": {
            "text/html": [
              "<div>\n",
              "<style scoped>\n",
              "    .dataframe tbody tr th:only-of-type {\n",
              "        vertical-align: middle;\n",
              "    }\n",
              "\n",
              "    .dataframe tbody tr th {\n",
              "        vertical-align: top;\n",
              "    }\n",
              "\n",
              "    .dataframe thead th {\n",
              "        text-align: right;\n",
              "    }\n",
              "</style>\n",
              "<table border=\"1\" class=\"dataframe\">\n",
              "  <thead>\n",
              "    <tr style=\"text-align: right;\">\n",
              "      <th></th>\n",
              "      <th>channel1</th>\n",
              "      <th>channel2</th>\n",
              "      <th>channel3</th>\n",
              "      <th>channel4</th>\n",
              "      <th>channel5</th>\n",
              "      <th>channel6</th>\n",
              "      <th>channel7</th>\n",
              "      <th>channel8</th>\n",
              "      <th>class</th>\n",
              "    </tr>\n",
              "  </thead>\n",
              "  <tbody>\n",
              "    <tr>\n",
              "      <th>2017965</th>\n",
              "      <td>-0.00001</td>\n",
              "      <td>-0.00005</td>\n",
              "      <td>-0.00001</td>\n",
              "      <td>-0.00002</td>\n",
              "      <td>-0.00001</td>\n",
              "      <td>-0.00002</td>\n",
              "      <td>0.00000</td>\n",
              "      <td>-0.00001</td>\n",
              "      <td>0</td>\n",
              "    </tr>\n",
              "    <tr>\n",
              "      <th>872242</th>\n",
              "      <td>-0.00002</td>\n",
              "      <td>-0.00003</td>\n",
              "      <td>0.00001</td>\n",
              "      <td>-0.00002</td>\n",
              "      <td>0.00000</td>\n",
              "      <td>0.00001</td>\n",
              "      <td>-0.00003</td>\n",
              "      <td>-0.00002</td>\n",
              "      <td>0</td>\n",
              "    </tr>\n",
              "    <tr>\n",
              "      <th>1427198</th>\n",
              "      <td>-0.00003</td>\n",
              "      <td>0.00000</td>\n",
              "      <td>-0.00001</td>\n",
              "      <td>0.00003</td>\n",
              "      <td>0.00003</td>\n",
              "      <td>-0.00007</td>\n",
              "      <td>-0.00010</td>\n",
              "      <td>-0.00005</td>\n",
              "      <td>0</td>\n",
              "    </tr>\n",
              "    <tr>\n",
              "      <th>964763</th>\n",
              "      <td>0.00000</td>\n",
              "      <td>0.00001</td>\n",
              "      <td>-0.00004</td>\n",
              "      <td>-0.00008</td>\n",
              "      <td>-0.00002</td>\n",
              "      <td>0.00001</td>\n",
              "      <td>0.00000</td>\n",
              "      <td>-0.00001</td>\n",
              "      <td>0</td>\n",
              "    </tr>\n",
              "    <tr>\n",
              "      <th>416644</th>\n",
              "      <td>0.00002</td>\n",
              "      <td>0.00008</td>\n",
              "      <td>0.00015</td>\n",
              "      <td>-0.00019</td>\n",
              "      <td>0.00000</td>\n",
              "      <td>0.00005</td>\n",
              "      <td>0.00000</td>\n",
              "      <td>-0.00006</td>\n",
              "      <td>0</td>\n",
              "    </tr>\n",
              "    <tr>\n",
              "      <th>...</th>\n",
              "      <td>...</td>\n",
              "      <td>...</td>\n",
              "      <td>...</td>\n",
              "      <td>...</td>\n",
              "      <td>...</td>\n",
              "      <td>...</td>\n",
              "      <td>...</td>\n",
              "      <td>...</td>\n",
              "      <td>...</td>\n",
              "    </tr>\n",
              "    <tr>\n",
              "      <th>4123301</th>\n",
              "      <td>0.00059</td>\n",
              "      <td>0.00076</td>\n",
              "      <td>0.00008</td>\n",
              "      <td>0.00004</td>\n",
              "      <td>0.00028</td>\n",
              "      <td>-0.00030</td>\n",
              "      <td>-0.00020</td>\n",
              "      <td>0.00006</td>\n",
              "      <td>0</td>\n",
              "    </tr>\n",
              "    <tr>\n",
              "      <th>3378871</th>\n",
              "      <td>-0.00001</td>\n",
              "      <td>0.00000</td>\n",
              "      <td>-0.00002</td>\n",
              "      <td>-0.00003</td>\n",
              "      <td>-0.00003</td>\n",
              "      <td>0.00001</td>\n",
              "      <td>0.00001</td>\n",
              "      <td>-0.00002</td>\n",
              "      <td>0</td>\n",
              "    </tr>\n",
              "    <tr>\n",
              "      <th>676763</th>\n",
              "      <td>-0.00001</td>\n",
              "      <td>0.00000</td>\n",
              "      <td>0.00009</td>\n",
              "      <td>0.00040</td>\n",
              "      <td>0.00072</td>\n",
              "      <td>0.00048</td>\n",
              "      <td>0.00010</td>\n",
              "      <td>0.00007</td>\n",
              "      <td>0</td>\n",
              "    </tr>\n",
              "    <tr>\n",
              "      <th>444063</th>\n",
              "      <td>-0.00101</td>\n",
              "      <td>0.00005</td>\n",
              "      <td>0.00019</td>\n",
              "      <td>-0.00060</td>\n",
              "      <td>-0.00048</td>\n",
              "      <td>-0.00011</td>\n",
              "      <td>-0.00006</td>\n",
              "      <td>-0.00027</td>\n",
              "      <td>0</td>\n",
              "    </tr>\n",
              "    <tr>\n",
              "      <th>246857</th>\n",
              "      <td>0.00000</td>\n",
              "      <td>0.00000</td>\n",
              "      <td>0.00006</td>\n",
              "      <td>-0.00002</td>\n",
              "      <td>0.00002</td>\n",
              "      <td>-0.00001</td>\n",
              "      <td>0.00000</td>\n",
              "      <td>-0.00001</td>\n",
              "      <td>0</td>\n",
              "    </tr>\n",
              "  </tbody>\n",
              "</table>\n",
              "<p>2725157 rows × 9 columns</p>\n",
              "</div>"
            ],
            "text/plain": [
              "         channel1  channel2  channel3  ...  channel7  channel8  class\n",
              "2017965  -0.00001  -0.00005  -0.00001  ...   0.00000  -0.00001      0\n",
              "872242   -0.00002  -0.00003   0.00001  ...  -0.00003  -0.00002      0\n",
              "1427198  -0.00003   0.00000  -0.00001  ...  -0.00010  -0.00005      0\n",
              "964763    0.00000   0.00001  -0.00004  ...   0.00000  -0.00001      0\n",
              "416644    0.00002   0.00008   0.00015  ...   0.00000  -0.00006      0\n",
              "...           ...       ...       ...  ...       ...       ...    ...\n",
              "4123301   0.00059   0.00076   0.00008  ...  -0.00020   0.00006      0\n",
              "3378871  -0.00001   0.00000  -0.00002  ...   0.00001  -0.00002      0\n",
              "676763   -0.00001   0.00000   0.00009  ...   0.00010   0.00007      0\n",
              "444063   -0.00101   0.00005   0.00019  ...  -0.00006  -0.00027      0\n",
              "246857    0.00000   0.00000   0.00006  ...   0.00000  -0.00001      0\n",
              "\n",
              "[2725157 rows x 9 columns]"
            ]
          },
          "metadata": {},
          "execution_count": 66
        }
      ]
    },
    {
      "cell_type": "code",
      "metadata": {
        "id": "u7y8wVdDvex0",
        "colab": {
          "base_uri": "https://localhost:8080/",
          "height": 414
        },
        "outputId": "37e6aa08-b642-4eee-abb3-06120fbc5a29"
      },
      "source": [
        "df1=df1.drop(index=df1.index[:2475000], \n",
        "        axis=0 \n",
        "       )\n",
        "df1"
      ],
      "execution_count": null,
      "outputs": [
        {
          "output_type": "execute_result",
          "data": {
            "text/html": [
              "<div>\n",
              "<style scoped>\n",
              "    .dataframe tbody tr th:only-of-type {\n",
              "        vertical-align: middle;\n",
              "    }\n",
              "\n",
              "    .dataframe tbody tr th {\n",
              "        vertical-align: top;\n",
              "    }\n",
              "\n",
              "    .dataframe thead th {\n",
              "        text-align: right;\n",
              "    }\n",
              "</style>\n",
              "<table border=\"1\" class=\"dataframe\">\n",
              "  <thead>\n",
              "    <tr style=\"text-align: right;\">\n",
              "      <th></th>\n",
              "      <th>channel1</th>\n",
              "      <th>channel2</th>\n",
              "      <th>channel3</th>\n",
              "      <th>channel4</th>\n",
              "      <th>channel5</th>\n",
              "      <th>channel6</th>\n",
              "      <th>channel7</th>\n",
              "      <th>channel8</th>\n",
              "      <th>class</th>\n",
              "    </tr>\n",
              "  </thead>\n",
              "  <tbody>\n",
              "    <tr>\n",
              "      <th>671366</th>\n",
              "      <td>-0.00003</td>\n",
              "      <td>-0.00002</td>\n",
              "      <td>-0.00002</td>\n",
              "      <td>-0.00002</td>\n",
              "      <td>-0.00002</td>\n",
              "      <td>0.00000</td>\n",
              "      <td>-0.00001</td>\n",
              "      <td>-0.00001</td>\n",
              "      <td>0</td>\n",
              "    </tr>\n",
              "    <tr>\n",
              "      <th>3720221</th>\n",
              "      <td>-0.00002</td>\n",
              "      <td>0.00001</td>\n",
              "      <td>0.00005</td>\n",
              "      <td>0.00013</td>\n",
              "      <td>0.00021</td>\n",
              "      <td>-0.00008</td>\n",
              "      <td>-0.00002</td>\n",
              "      <td>0.00000</td>\n",
              "      <td>0</td>\n",
              "    </tr>\n",
              "    <tr>\n",
              "      <th>1062040</th>\n",
              "      <td>-0.00002</td>\n",
              "      <td>-0.00001</td>\n",
              "      <td>0.00000</td>\n",
              "      <td>-0.00004</td>\n",
              "      <td>-0.00005</td>\n",
              "      <td>0.00001</td>\n",
              "      <td>-0.00003</td>\n",
              "      <td>-0.00002</td>\n",
              "      <td>0</td>\n",
              "    </tr>\n",
              "    <tr>\n",
              "      <th>2702608</th>\n",
              "      <td>0.00001</td>\n",
              "      <td>0.00003</td>\n",
              "      <td>-0.00008</td>\n",
              "      <td>-0.00015</td>\n",
              "      <td>-0.00025</td>\n",
              "      <td>0.00000</td>\n",
              "      <td>-0.00005</td>\n",
              "      <td>0.00000</td>\n",
              "      <td>0</td>\n",
              "    </tr>\n",
              "    <tr>\n",
              "      <th>1521551</th>\n",
              "      <td>0.00007</td>\n",
              "      <td>0.00007</td>\n",
              "      <td>0.00010</td>\n",
              "      <td>0.00031</td>\n",
              "      <td>-0.00045</td>\n",
              "      <td>0.00016</td>\n",
              "      <td>0.00010</td>\n",
              "      <td>0.00006</td>\n",
              "      <td>0</td>\n",
              "    </tr>\n",
              "    <tr>\n",
              "      <th>...</th>\n",
              "      <td>...</td>\n",
              "      <td>...</td>\n",
              "      <td>...</td>\n",
              "      <td>...</td>\n",
              "      <td>...</td>\n",
              "      <td>...</td>\n",
              "      <td>...</td>\n",
              "      <td>...</td>\n",
              "      <td>...</td>\n",
              "    </tr>\n",
              "    <tr>\n",
              "      <th>4123301</th>\n",
              "      <td>0.00059</td>\n",
              "      <td>0.00076</td>\n",
              "      <td>0.00008</td>\n",
              "      <td>0.00004</td>\n",
              "      <td>0.00028</td>\n",
              "      <td>-0.00030</td>\n",
              "      <td>-0.00020</td>\n",
              "      <td>0.00006</td>\n",
              "      <td>0</td>\n",
              "    </tr>\n",
              "    <tr>\n",
              "      <th>3378871</th>\n",
              "      <td>-0.00001</td>\n",
              "      <td>0.00000</td>\n",
              "      <td>-0.00002</td>\n",
              "      <td>-0.00003</td>\n",
              "      <td>-0.00003</td>\n",
              "      <td>0.00001</td>\n",
              "      <td>0.00001</td>\n",
              "      <td>-0.00002</td>\n",
              "      <td>0</td>\n",
              "    </tr>\n",
              "    <tr>\n",
              "      <th>676763</th>\n",
              "      <td>-0.00001</td>\n",
              "      <td>0.00000</td>\n",
              "      <td>0.00009</td>\n",
              "      <td>0.00040</td>\n",
              "      <td>0.00072</td>\n",
              "      <td>0.00048</td>\n",
              "      <td>0.00010</td>\n",
              "      <td>0.00007</td>\n",
              "      <td>0</td>\n",
              "    </tr>\n",
              "    <tr>\n",
              "      <th>444063</th>\n",
              "      <td>-0.00101</td>\n",
              "      <td>0.00005</td>\n",
              "      <td>0.00019</td>\n",
              "      <td>-0.00060</td>\n",
              "      <td>-0.00048</td>\n",
              "      <td>-0.00011</td>\n",
              "      <td>-0.00006</td>\n",
              "      <td>-0.00027</td>\n",
              "      <td>0</td>\n",
              "    </tr>\n",
              "    <tr>\n",
              "      <th>246857</th>\n",
              "      <td>0.00000</td>\n",
              "      <td>0.00000</td>\n",
              "      <td>0.00006</td>\n",
              "      <td>-0.00002</td>\n",
              "      <td>0.00002</td>\n",
              "      <td>-0.00001</td>\n",
              "      <td>0.00000</td>\n",
              "      <td>-0.00001</td>\n",
              "      <td>0</td>\n",
              "    </tr>\n",
              "  </tbody>\n",
              "</table>\n",
              "<p>250157 rows × 9 columns</p>\n",
              "</div>"
            ],
            "text/plain": [
              "         channel1  channel2  channel3  ...  channel7  channel8  class\n",
              "671366   -0.00003  -0.00002  -0.00002  ...  -0.00001  -0.00001      0\n",
              "3720221  -0.00002   0.00001   0.00005  ...  -0.00002   0.00000      0\n",
              "1062040  -0.00002  -0.00001   0.00000  ...  -0.00003  -0.00002      0\n",
              "2702608   0.00001   0.00003  -0.00008  ...  -0.00005   0.00000      0\n",
              "1521551   0.00007   0.00007   0.00010  ...   0.00010   0.00006      0\n",
              "...           ...       ...       ...  ...       ...       ...    ...\n",
              "4123301   0.00059   0.00076   0.00008  ...  -0.00020   0.00006      0\n",
              "3378871  -0.00001   0.00000  -0.00002  ...   0.00001  -0.00002      0\n",
              "676763   -0.00001   0.00000   0.00009  ...   0.00010   0.00007      0\n",
              "444063   -0.00101   0.00005   0.00019  ...  -0.00006  -0.00027      0\n",
              "246857    0.00000   0.00000   0.00006  ...   0.00000  -0.00001      0\n",
              "\n",
              "[250157 rows x 9 columns]"
            ]
          },
          "metadata": {},
          "execution_count": 67
        }
      ]
    },
    {
      "cell_type": "code",
      "metadata": {
        "id": "78PkypOOyo9X",
        "colab": {
          "base_uri": "https://localhost:8080/",
          "height": 414
        },
        "outputId": "f7653d93-144f-4280-b614-7a54a3ca064b"
      },
      "source": [
        "df=df.drop(df.loc[df['class']==0].index)\n",
        "df=df.drop(df.loc[df['class']==7].index)\n",
        "df"
      ],
      "execution_count": null,
      "outputs": [
        {
          "output_type": "execute_result",
          "data": {
            "text/html": [
              "<div>\n",
              "<style scoped>\n",
              "    .dataframe tbody tr th:only-of-type {\n",
              "        vertical-align: middle;\n",
              "    }\n",
              "\n",
              "    .dataframe tbody tr th {\n",
              "        vertical-align: top;\n",
              "    }\n",
              "\n",
              "    .dataframe thead th {\n",
              "        text-align: right;\n",
              "    }\n",
              "</style>\n",
              "<table border=\"1\" class=\"dataframe\">\n",
              "  <thead>\n",
              "    <tr style=\"text-align: right;\">\n",
              "      <th></th>\n",
              "      <th>channel1</th>\n",
              "      <th>channel2</th>\n",
              "      <th>channel3</th>\n",
              "      <th>channel4</th>\n",
              "      <th>channel5</th>\n",
              "      <th>channel6</th>\n",
              "      <th>channel7</th>\n",
              "      <th>channel8</th>\n",
              "      <th>class</th>\n",
              "    </tr>\n",
              "  </thead>\n",
              "  <tbody>\n",
              "    <tr>\n",
              "      <th>2287</th>\n",
              "      <td>-0.00001</td>\n",
              "      <td>0.00000</td>\n",
              "      <td>-0.00001</td>\n",
              "      <td>0.00000</td>\n",
              "      <td>0.00000</td>\n",
              "      <td>-0.00001</td>\n",
              "      <td>-0.00001</td>\n",
              "      <td>0.00001</td>\n",
              "      <td>1</td>\n",
              "    </tr>\n",
              "    <tr>\n",
              "      <th>2288</th>\n",
              "      <td>-0.00001</td>\n",
              "      <td>-0.00002</td>\n",
              "      <td>0.00000</td>\n",
              "      <td>-0.00001</td>\n",
              "      <td>-0.00001</td>\n",
              "      <td>-0.00001</td>\n",
              "      <td>-0.00003</td>\n",
              "      <td>-0.00002</td>\n",
              "      <td>1</td>\n",
              "    </tr>\n",
              "    <tr>\n",
              "      <th>2289</th>\n",
              "      <td>-0.00001</td>\n",
              "      <td>-0.00002</td>\n",
              "      <td>0.00000</td>\n",
              "      <td>-0.00001</td>\n",
              "      <td>-0.00001</td>\n",
              "      <td>-0.00001</td>\n",
              "      <td>-0.00003</td>\n",
              "      <td>-0.00002</td>\n",
              "      <td>1</td>\n",
              "    </tr>\n",
              "    <tr>\n",
              "      <th>2290</th>\n",
              "      <td>-0.00001</td>\n",
              "      <td>-0.00002</td>\n",
              "      <td>0.00000</td>\n",
              "      <td>-0.00001</td>\n",
              "      <td>-0.00001</td>\n",
              "      <td>-0.00001</td>\n",
              "      <td>-0.00003</td>\n",
              "      <td>-0.00002</td>\n",
              "      <td>1</td>\n",
              "    </tr>\n",
              "    <tr>\n",
              "      <th>2291</th>\n",
              "      <td>-0.00001</td>\n",
              "      <td>-0.00002</td>\n",
              "      <td>0.00000</td>\n",
              "      <td>-0.00001</td>\n",
              "      <td>-0.00001</td>\n",
              "      <td>-0.00001</td>\n",
              "      <td>-0.00003</td>\n",
              "      <td>-0.00002</td>\n",
              "      <td>1</td>\n",
              "    </tr>\n",
              "    <tr>\n",
              "      <th>...</th>\n",
              "      <td>...</td>\n",
              "      <td>...</td>\n",
              "      <td>...</td>\n",
              "      <td>...</td>\n",
              "      <td>...</td>\n",
              "      <td>...</td>\n",
              "      <td>...</td>\n",
              "      <td>...</td>\n",
              "      <td>...</td>\n",
              "    </tr>\n",
              "    <tr>\n",
              "      <th>4237207</th>\n",
              "      <td>0.00009</td>\n",
              "      <td>0.00001</td>\n",
              "      <td>0.00003</td>\n",
              "      <td>0.00001</td>\n",
              "      <td>-0.00003</td>\n",
              "      <td>-0.00008</td>\n",
              "      <td>0.00004</td>\n",
              "      <td>0.00000</td>\n",
              "      <td>6</td>\n",
              "    </tr>\n",
              "    <tr>\n",
              "      <th>4237208</th>\n",
              "      <td>0.00009</td>\n",
              "      <td>0.00001</td>\n",
              "      <td>0.00003</td>\n",
              "      <td>0.00001</td>\n",
              "      <td>-0.00003</td>\n",
              "      <td>-0.00008</td>\n",
              "      <td>0.00004</td>\n",
              "      <td>0.00000</td>\n",
              "      <td>6</td>\n",
              "    </tr>\n",
              "    <tr>\n",
              "      <th>4237209</th>\n",
              "      <td>0.00009</td>\n",
              "      <td>0.00001</td>\n",
              "      <td>0.00003</td>\n",
              "      <td>0.00001</td>\n",
              "      <td>-0.00003</td>\n",
              "      <td>-0.00008</td>\n",
              "      <td>0.00004</td>\n",
              "      <td>0.00000</td>\n",
              "      <td>6</td>\n",
              "    </tr>\n",
              "    <tr>\n",
              "      <th>4237210</th>\n",
              "      <td>0.00014</td>\n",
              "      <td>0.00003</td>\n",
              "      <td>-0.00001</td>\n",
              "      <td>0.00001</td>\n",
              "      <td>-0.00012</td>\n",
              "      <td>0.00006</td>\n",
              "      <td>-0.00007</td>\n",
              "      <td>-0.00013</td>\n",
              "      <td>6</td>\n",
              "    </tr>\n",
              "    <tr>\n",
              "      <th>4237211</th>\n",
              "      <td>0.00014</td>\n",
              "      <td>0.00003</td>\n",
              "      <td>-0.00001</td>\n",
              "      <td>0.00001</td>\n",
              "      <td>-0.00012</td>\n",
              "      <td>0.00006</td>\n",
              "      <td>-0.00007</td>\n",
              "      <td>-0.00013</td>\n",
              "      <td>6</td>\n",
              "    </tr>\n",
              "  </tbody>\n",
              "</table>\n",
              "<p>1499054 rows × 9 columns</p>\n",
              "</div>"
            ],
            "text/plain": [
              "         channel1  channel2  channel3  ...  channel7  channel8  class\n",
              "2287     -0.00001   0.00000  -0.00001  ...  -0.00001   0.00001      1\n",
              "2288     -0.00001  -0.00002   0.00000  ...  -0.00003  -0.00002      1\n",
              "2289     -0.00001  -0.00002   0.00000  ...  -0.00003  -0.00002      1\n",
              "2290     -0.00001  -0.00002   0.00000  ...  -0.00003  -0.00002      1\n",
              "2291     -0.00001  -0.00002   0.00000  ...  -0.00003  -0.00002      1\n",
              "...           ...       ...       ...  ...       ...       ...    ...\n",
              "4237207   0.00009   0.00001   0.00003  ...   0.00004   0.00000      6\n",
              "4237208   0.00009   0.00001   0.00003  ...   0.00004   0.00000      6\n",
              "4237209   0.00009   0.00001   0.00003  ...   0.00004   0.00000      6\n",
              "4237210   0.00014   0.00003  -0.00001  ...  -0.00007  -0.00013      6\n",
              "4237211   0.00014   0.00003  -0.00001  ...  -0.00007  -0.00013      6\n",
              "\n",
              "[1499054 rows x 9 columns]"
            ]
          },
          "metadata": {},
          "execution_count": 68
        }
      ]
    },
    {
      "cell_type": "code",
      "metadata": {
        "colab": {
          "base_uri": "https://localhost:8080/",
          "height": 414
        },
        "id": "nWj9ENOp2Y8v",
        "outputId": "affca597-259a-43ed-8110-e9dad3b865bd"
      },
      "source": [
        "df = df.append(df1, ignore_index = False)\n",
        "df"
      ],
      "execution_count": null,
      "outputs": [
        {
          "output_type": "execute_result",
          "data": {
            "text/html": [
              "<div>\n",
              "<style scoped>\n",
              "    .dataframe tbody tr th:only-of-type {\n",
              "        vertical-align: middle;\n",
              "    }\n",
              "\n",
              "    .dataframe tbody tr th {\n",
              "        vertical-align: top;\n",
              "    }\n",
              "\n",
              "    .dataframe thead th {\n",
              "        text-align: right;\n",
              "    }\n",
              "</style>\n",
              "<table border=\"1\" class=\"dataframe\">\n",
              "  <thead>\n",
              "    <tr style=\"text-align: right;\">\n",
              "      <th></th>\n",
              "      <th>channel1</th>\n",
              "      <th>channel2</th>\n",
              "      <th>channel3</th>\n",
              "      <th>channel4</th>\n",
              "      <th>channel5</th>\n",
              "      <th>channel6</th>\n",
              "      <th>channel7</th>\n",
              "      <th>channel8</th>\n",
              "      <th>class</th>\n",
              "    </tr>\n",
              "  </thead>\n",
              "  <tbody>\n",
              "    <tr>\n",
              "      <th>2287</th>\n",
              "      <td>-0.00001</td>\n",
              "      <td>0.00000</td>\n",
              "      <td>-0.00001</td>\n",
              "      <td>0.00000</td>\n",
              "      <td>0.00000</td>\n",
              "      <td>-0.00001</td>\n",
              "      <td>-0.00001</td>\n",
              "      <td>0.00001</td>\n",
              "      <td>1</td>\n",
              "    </tr>\n",
              "    <tr>\n",
              "      <th>2288</th>\n",
              "      <td>-0.00001</td>\n",
              "      <td>-0.00002</td>\n",
              "      <td>0.00000</td>\n",
              "      <td>-0.00001</td>\n",
              "      <td>-0.00001</td>\n",
              "      <td>-0.00001</td>\n",
              "      <td>-0.00003</td>\n",
              "      <td>-0.00002</td>\n",
              "      <td>1</td>\n",
              "    </tr>\n",
              "    <tr>\n",
              "      <th>2289</th>\n",
              "      <td>-0.00001</td>\n",
              "      <td>-0.00002</td>\n",
              "      <td>0.00000</td>\n",
              "      <td>-0.00001</td>\n",
              "      <td>-0.00001</td>\n",
              "      <td>-0.00001</td>\n",
              "      <td>-0.00003</td>\n",
              "      <td>-0.00002</td>\n",
              "      <td>1</td>\n",
              "    </tr>\n",
              "    <tr>\n",
              "      <th>2290</th>\n",
              "      <td>-0.00001</td>\n",
              "      <td>-0.00002</td>\n",
              "      <td>0.00000</td>\n",
              "      <td>-0.00001</td>\n",
              "      <td>-0.00001</td>\n",
              "      <td>-0.00001</td>\n",
              "      <td>-0.00003</td>\n",
              "      <td>-0.00002</td>\n",
              "      <td>1</td>\n",
              "    </tr>\n",
              "    <tr>\n",
              "      <th>2291</th>\n",
              "      <td>-0.00001</td>\n",
              "      <td>-0.00002</td>\n",
              "      <td>0.00000</td>\n",
              "      <td>-0.00001</td>\n",
              "      <td>-0.00001</td>\n",
              "      <td>-0.00001</td>\n",
              "      <td>-0.00003</td>\n",
              "      <td>-0.00002</td>\n",
              "      <td>1</td>\n",
              "    </tr>\n",
              "    <tr>\n",
              "      <th>...</th>\n",
              "      <td>...</td>\n",
              "      <td>...</td>\n",
              "      <td>...</td>\n",
              "      <td>...</td>\n",
              "      <td>...</td>\n",
              "      <td>...</td>\n",
              "      <td>...</td>\n",
              "      <td>...</td>\n",
              "      <td>...</td>\n",
              "    </tr>\n",
              "    <tr>\n",
              "      <th>4123301</th>\n",
              "      <td>0.00059</td>\n",
              "      <td>0.00076</td>\n",
              "      <td>0.00008</td>\n",
              "      <td>0.00004</td>\n",
              "      <td>0.00028</td>\n",
              "      <td>-0.00030</td>\n",
              "      <td>-0.00020</td>\n",
              "      <td>0.00006</td>\n",
              "      <td>0</td>\n",
              "    </tr>\n",
              "    <tr>\n",
              "      <th>3378871</th>\n",
              "      <td>-0.00001</td>\n",
              "      <td>0.00000</td>\n",
              "      <td>-0.00002</td>\n",
              "      <td>-0.00003</td>\n",
              "      <td>-0.00003</td>\n",
              "      <td>0.00001</td>\n",
              "      <td>0.00001</td>\n",
              "      <td>-0.00002</td>\n",
              "      <td>0</td>\n",
              "    </tr>\n",
              "    <tr>\n",
              "      <th>676763</th>\n",
              "      <td>-0.00001</td>\n",
              "      <td>0.00000</td>\n",
              "      <td>0.00009</td>\n",
              "      <td>0.00040</td>\n",
              "      <td>0.00072</td>\n",
              "      <td>0.00048</td>\n",
              "      <td>0.00010</td>\n",
              "      <td>0.00007</td>\n",
              "      <td>0</td>\n",
              "    </tr>\n",
              "    <tr>\n",
              "      <th>444063</th>\n",
              "      <td>-0.00101</td>\n",
              "      <td>0.00005</td>\n",
              "      <td>0.00019</td>\n",
              "      <td>-0.00060</td>\n",
              "      <td>-0.00048</td>\n",
              "      <td>-0.00011</td>\n",
              "      <td>-0.00006</td>\n",
              "      <td>-0.00027</td>\n",
              "      <td>0</td>\n",
              "    </tr>\n",
              "    <tr>\n",
              "      <th>246857</th>\n",
              "      <td>0.00000</td>\n",
              "      <td>0.00000</td>\n",
              "      <td>0.00006</td>\n",
              "      <td>-0.00002</td>\n",
              "      <td>0.00002</td>\n",
              "      <td>-0.00001</td>\n",
              "      <td>0.00000</td>\n",
              "      <td>-0.00001</td>\n",
              "      <td>0</td>\n",
              "    </tr>\n",
              "  </tbody>\n",
              "</table>\n",
              "<p>1749211 rows × 9 columns</p>\n",
              "</div>"
            ],
            "text/plain": [
              "         channel1  channel2  channel3  ...  channel7  channel8  class\n",
              "2287     -0.00001   0.00000  -0.00001  ...  -0.00001   0.00001      1\n",
              "2288     -0.00001  -0.00002   0.00000  ...  -0.00003  -0.00002      1\n",
              "2289     -0.00001  -0.00002   0.00000  ...  -0.00003  -0.00002      1\n",
              "2290     -0.00001  -0.00002   0.00000  ...  -0.00003  -0.00002      1\n",
              "2291     -0.00001  -0.00002   0.00000  ...  -0.00003  -0.00002      1\n",
              "...           ...       ...       ...  ...       ...       ...    ...\n",
              "4123301   0.00059   0.00076   0.00008  ...  -0.00020   0.00006      0\n",
              "3378871  -0.00001   0.00000  -0.00002  ...   0.00001  -0.00002      0\n",
              "676763   -0.00001   0.00000   0.00009  ...   0.00010   0.00007      0\n",
              "444063   -0.00101   0.00005   0.00019  ...  -0.00006  -0.00027      0\n",
              "246857    0.00000   0.00000   0.00006  ...   0.00000  -0.00001      0\n",
              "\n",
              "[1749211 rows x 9 columns]"
            ]
          },
          "metadata": {},
          "execution_count": 69
        }
      ]
    },
    {
      "cell_type": "code",
      "metadata": {
        "colab": {
          "base_uri": "https://localhost:8080/",
          "height": 314
        },
        "id": "JKK3OQ233NHH",
        "outputId": "24b7fd48-3536-46e7-e8bd-db160eaccb48"
      },
      "source": [
        "df.hist('class')"
      ],
      "execution_count": null,
      "outputs": [
        {
          "output_type": "execute_result",
          "data": {
            "text/plain": [
              "array([[<matplotlib.axes._subplots.AxesSubplot object at 0x7fa00cd6c950>]],\n",
              "      dtype=object)"
            ]
          },
          "metadata": {},
          "execution_count": 70
        },
        {
          "output_type": "display_data",
          "data": {
            "image/png": "[encoded data removed]",
            "text/plain": [
              "<Figure size 432x288 with 1 Axes>"
            ]
          },
          "metadata": {
            "needs_background": "light"
          }
        }
      ]
    },
    {
      "cell_type": "code",
      "metadata": {
        "colab": {
          "base_uri": "https://localhost:8080/"
        },
        "id": "HNV1DjohJVef",
        "outputId": "49fae8ce-e2a1-4357-db92-b624ac7a750b"
      },
      "source": [
        "df['class'].value_counts()"
      ],
      "execution_count": null,
      "outputs": [
        {
          "output_type": "execute_result",
          "data": {
            "text/plain": [
              "6    253009\n",
              "5    251733\n",
              "4    251570\n",
              "0    250157\n",
              "1    250055\n",
              "3    249494\n",
              "2    243193\n",
              "Name: class, dtype: int64"
            ]
          },
          "metadata": {},
          "execution_count": 71
        }
      ]
    },
    {
      "cell_type": "code",
      "metadata": {
        "colab": {
          "base_uri": "https://localhost:8080/"
        },
        "id": "dt2IrMJyHgCN",
        "outputId": "75012a1d-24cc-4b8e-a6fa-f69cd047b825"
      },
      "source": [
        "df.info()"
      ],
      "execution_count": null,
      "outputs": [
        {
          "output_type": "stream",
          "name": "stdout",
          "text": [
            "<class 'pandas.core.frame.DataFrame'>\n",
            "Int64Index: 1749211 entries, 2287 to 246857\n",
            "Data columns (total 9 columns):\n",
            " #   Column    Dtype  \n",
            "---  ------    -----  \n",
            " 0   channel1  float64\n",
            " 1   channel2  float64\n",
            " 2   channel3  float64\n",
            " 3   channel4  float64\n",
            " 4   channel5  float64\n",
            " 5   channel6  float64\n",
            " 6   channel7  float64\n",
            " 7   channel8  float64\n",
            " 8   class     int64  \n",
            "dtypes: float64(8), int64(1)\n",
            "memory usage: 133.5 MB\n"
          ]
        }
      ]
    },
    {
      "cell_type": "code",
      "metadata": {
        "colab": {
          "base_uri": "https://localhost:8080/",
          "height": 294
        },
        "id": "eBl32K4xOB2J",
        "outputId": "bc99b2ed-b4d0-44f4-9946-648d473a2201"
      },
      "source": [
        "df.describe()"
      ],
      "execution_count": null,
      "outputs": [
        {
          "output_type": "execute_result",
          "data": {
            "text/html": [
              "<div>\n",
              "<style scoped>\n",
              "    .dataframe tbody tr th:only-of-type {\n",
              "        vertical-align: middle;\n",
              "    }\n",
              "\n",
              "    .dataframe tbody tr th {\n",
              "        vertical-align: top;\n",
              "    }\n",
              "\n",
              "    .dataframe thead th {\n",
              "        text-align: right;\n",
              "    }\n",
              "</style>\n",
              "<table border=\"1\" class=\"dataframe\">\n",
              "  <thead>\n",
              "    <tr style=\"text-align: right;\">\n",
              "      <th></th>\n",
              "      <th>channel1</th>\n",
              "      <th>channel2</th>\n",
              "      <th>channel3</th>\n",
              "      <th>channel4</th>\n",
              "      <th>channel5</th>\n",
              "      <th>channel6</th>\n",
              "      <th>channel7</th>\n",
              "      <th>channel8</th>\n",
              "      <th>class</th>\n",
              "    </tr>\n",
              "  </thead>\n",
              "  <tbody>\n",
              "    <tr>\n",
              "      <th>count</th>\n",
              "      <td>1.749211e+06</td>\n",
              "      <td>1.749211e+06</td>\n",
              "      <td>1.749211e+06</td>\n",
              "      <td>1.749211e+06</td>\n",
              "      <td>1.749211e+06</td>\n",
              "      <td>1.749211e+06</td>\n",
              "      <td>1.749211e+06</td>\n",
              "      <td>1.749211e+06</td>\n",
              "      <td>1.749211e+06</td>\n",
              "    </tr>\n",
              "    <tr>\n",
              "      <th>mean</th>\n",
              "      <td>-8.064196e-06</td>\n",
              "      <td>-9.586316e-06</td>\n",
              "      <td>-9.583824e-06</td>\n",
              "      <td>-9.467383e-06</td>\n",
              "      <td>-1.828490e-05</td>\n",
              "      <td>-1.156832e-05</td>\n",
              "      <td>-9.797234e-06</td>\n",
              "      <td>-1.030606e-05</td>\n",
              "      <td>3.011599e+00</td>\n",
              "    </tr>\n",
              "    <tr>\n",
              "      <th>std</th>\n",
              "      <td>1.838080e-04</td>\n",
              "      <td>1.332797e-04</td>\n",
              "      <td>1.351131e-04</td>\n",
              "      <td>2.563703e-04</td>\n",
              "      <td>3.066564e-04</td>\n",
              "      <td>2.418638e-04</td>\n",
              "      <td>1.717851e-04</td>\n",
              "      <td>1.942156e-04</td>\n",
              "      <td>2.004758e+00</td>\n",
              "    </tr>\n",
              "    <tr>\n",
              "      <th>min</th>\n",
              "      <td>-1.280000e-03</td>\n",
              "      <td>-1.280000e-03</td>\n",
              "      <td>-1.280000e-03</td>\n",
              "      <td>-1.280000e-03</td>\n",
              "      <td>-1.280000e-03</td>\n",
              "      <td>-1.280000e-03</td>\n",
              "      <td>-1.280000e-03</td>\n",
              "      <td>-1.280000e-03</td>\n",
              "      <td>0.000000e+00</td>\n",
              "    </tr>\n",
              "    <tr>\n",
              "      <th>25%</th>\n",
              "      <td>-5.000000e-05</td>\n",
              "      <td>-4.000000e-05</td>\n",
              "      <td>-5.000000e-05</td>\n",
              "      <td>-8.000000e-05</td>\n",
              "      <td>-1.200000e-04</td>\n",
              "      <td>-9.000000e-05</td>\n",
              "      <td>-5.000000e-05</td>\n",
              "      <td>-5.000000e-05</td>\n",
              "      <td>1.000000e+00</td>\n",
              "    </tr>\n",
              "    <tr>\n",
              "      <th>50%</th>\n",
              "      <td>-1.000000e-05</td>\n",
              "      <td>-1.000000e-05</td>\n",
              "      <td>-1.000000e-05</td>\n",
              "      <td>-1.000000e-05</td>\n",
              "      <td>-1.000000e-05</td>\n",
              "      <td>-1.000000e-05</td>\n",
              "      <td>-1.000000e-05</td>\n",
              "      <td>-1.000000e-05</td>\n",
              "      <td>3.000000e+00</td>\n",
              "    </tr>\n",
              "    <tr>\n",
              "      <th>75%</th>\n",
              "      <td>3.000000e-05</td>\n",
              "      <td>2.000000e-05</td>\n",
              "      <td>3.000000e-05</td>\n",
              "      <td>6.000000e-05</td>\n",
              "      <td>8.000000e-05</td>\n",
              "      <td>6.000000e-05</td>\n",
              "      <td>3.000000e-05</td>\n",
              "      <td>3.000000e-05</td>\n",
              "      <td>5.000000e+00</td>\n",
              "    </tr>\n",
              "    <tr>\n",
              "      <th>max</th>\n",
              "      <td>1.270000e-03</td>\n",
              "      <td>1.270000e-03</td>\n",
              "      <td>1.270000e-03</td>\n",
              "      <td>1.270000e-03</td>\n",
              "      <td>1.270000e-03</td>\n",
              "      <td>1.270000e-03</td>\n",
              "      <td>1.270000e-03</td>\n",
              "      <td>1.270000e-03</td>\n",
              "      <td>6.000000e+00</td>\n",
              "    </tr>\n",
              "  </tbody>\n",
              "</table>\n",
              "</div>"
            ],
            "text/plain": [
              "           channel1      channel2  ...      channel8         class\n",
              "count  1.749211e+06  1.749211e+06  ...  1.749211e+06  1.749211e+06\n",
              "mean  -8.064196e-06 -9.586316e-06  ... -1.030606e-05  3.011599e+00\n",
              "std    1.838080e-04  1.332797e-04  ...  1.942156e-04  2.004758e+00\n",
              "min   -1.280000e-03 -1.280000e-03  ... -1.280000e-03  0.000000e+00\n",
              "25%   -5.000000e-05 -4.000000e-05  ... -5.000000e-05  1.000000e+00\n",
              "50%   -1.000000e-05 -1.000000e-05  ... -1.000000e-05  3.000000e+00\n",
              "75%    3.000000e-05  2.000000e-05  ...  3.000000e-05  5.000000e+00\n",
              "max    1.270000e-03  1.270000e-03  ...  1.270000e-03  6.000000e+00\n",
              "\n",
              "[8 rows x 9 columns]"
            ]
          },
          "metadata": {},
          "execution_count": 73
        }
      ]
    },
    {
      "cell_type": "code",
      "metadata": {
        "colab": {
          "base_uri": "https://localhost:8080/",
          "height": 414
        },
        "id": "mrkywmkPAmD0",
        "outputId": "734173cf-7a52-474f-dd7f-2839cef7df9a"
      },
      "source": [
        "\n",
        "x=df.iloc[:,:8]\n",
        "x #features"
      ],
      "execution_count": null,
      "outputs": [
        {
          "output_type": "execute_result",
          "data": {
            "text/html": [
              "<div>\n",
              "<style scoped>\n",
              "    .dataframe tbody tr th:only-of-type {\n",
              "        vertical-align: middle;\n",
              "    }\n",
              "\n",
              "    .dataframe tbody tr th {\n",
              "        vertical-align: top;\n",
              "    }\n",
              "\n",
              "    .dataframe thead th {\n",
              "        text-align: right;\n",
              "    }\n",
              "</style>\n",
              "<table border=\"1\" class=\"dataframe\">\n",
              "  <thead>\n",
              "    <tr style=\"text-align: right;\">\n",
              "      <th></th>\n",
              "      <th>channel1</th>\n",
              "      <th>channel2</th>\n",
              "      <th>channel3</th>\n",
              "      <th>channel4</th>\n",
              "      <th>channel5</th>\n",
              "      <th>channel6</th>\n",
              "      <th>channel7</th>\n",
              "      <th>channel8</th>\n",
              "    </tr>\n",
              "  </thead>\n",
              "  <tbody>\n",
              "    <tr>\n",
              "      <th>2287</th>\n",
              "      <td>-0.00001</td>\n",
              "      <td>0.00000</td>\n",
              "      <td>-0.00001</td>\n",
              "      <td>0.00000</td>\n",
              "      <td>0.00000</td>\n",
              "      <td>-0.00001</td>\n",
              "      <td>-0.00001</td>\n",
              "      <td>0.00001</td>\n",
              "    </tr>\n",
              "    <tr>\n",
              "      <th>2288</th>\n",
              "      <td>-0.00001</td>\n",
              "      <td>-0.00002</td>\n",
              "      <td>0.00000</td>\n",
              "      <td>-0.00001</td>\n",
              "      <td>-0.00001</td>\n",
              "      <td>-0.00001</td>\n",
              "      <td>-0.00003</td>\n",
              "      <td>-0.00002</td>\n",
              "    </tr>\n",
              "    <tr>\n",
              "      <th>2289</th>\n",
              "      <td>-0.00001</td>\n",
              "      <td>-0.00002</td>\n",
              "      <td>0.00000</td>\n",
              "      <td>-0.00001</td>\n",
              "      <td>-0.00001</td>\n",
              "      <td>-0.00001</td>\n",
              "      <td>-0.00003</td>\n",
              "      <td>-0.00002</td>\n",
              "    </tr>\n",
              "    <tr>\n",
              "      <th>2290</th>\n",
              "      <td>-0.00001</td>\n",
              "      <td>-0.00002</td>\n",
              "      <td>0.00000</td>\n",
              "      <td>-0.00001</td>\n",
              "      <td>-0.00001</td>\n",
              "      <td>-0.00001</td>\n",
              "      <td>-0.00003</td>\n",
              "      <td>-0.00002</td>\n",
              "    </tr>\n",
              "    <tr>\n",
              "      <th>2291</th>\n",
              "      <td>-0.00001</td>\n",
              "      <td>-0.00002</td>\n",
              "      <td>0.00000</td>\n",
              "      <td>-0.00001</td>\n",
              "      <td>-0.00001</td>\n",
              "      <td>-0.00001</td>\n",
              "      <td>-0.00003</td>\n",
              "      <td>-0.00002</td>\n",
              "    </tr>\n",
              "    <tr>\n",
              "      <th>...</th>\n",
              "      <td>...</td>\n",
              "      <td>...</td>\n",
              "      <td>...</td>\n",
              "      <td>...</td>\n",
              "      <td>...</td>\n",
              "      <td>...</td>\n",
              "      <td>...</td>\n",
              "      <td>...</td>\n",
              "    </tr>\n",
              "    <tr>\n",
              "      <th>4123301</th>\n",
              "      <td>0.00059</td>\n",
              "      <td>0.00076</td>\n",
              "      <td>0.00008</td>\n",
              "      <td>0.00004</td>\n",
              "      <td>0.00028</td>\n",
              "      <td>-0.00030</td>\n",
              "      <td>-0.00020</td>\n",
              "      <td>0.00006</td>\n",
              "    </tr>\n",
              "    <tr>\n",
              "      <th>3378871</th>\n",
              "      <td>-0.00001</td>\n",
              "      <td>0.00000</td>\n",
              "      <td>-0.00002</td>\n",
              "      <td>-0.00003</td>\n",
              "      <td>-0.00003</td>\n",
              "      <td>0.00001</td>\n",
              "      <td>0.00001</td>\n",
              "      <td>-0.00002</td>\n",
              "    </tr>\n",
              "    <tr>\n",
              "      <th>676763</th>\n",
              "      <td>-0.00001</td>\n",
              "      <td>0.00000</td>\n",
              "      <td>0.00009</td>\n",
              "      <td>0.00040</td>\n",
              "      <td>0.00072</td>\n",
              "      <td>0.00048</td>\n",
              "      <td>0.00010</td>\n",
              "      <td>0.00007</td>\n",
              "    </tr>\n",
              "    <tr>\n",
              "      <th>444063</th>\n",
              "      <td>-0.00101</td>\n",
              "      <td>0.00005</td>\n",
              "      <td>0.00019</td>\n",
              "      <td>-0.00060</td>\n",
              "      <td>-0.00048</td>\n",
              "      <td>-0.00011</td>\n",
              "      <td>-0.00006</td>\n",
              "      <td>-0.00027</td>\n",
              "    </tr>\n",
              "    <tr>\n",
              "      <th>246857</th>\n",
              "      <td>0.00000</td>\n",
              "      <td>0.00000</td>\n",
              "      <td>0.00006</td>\n",
              "      <td>-0.00002</td>\n",
              "      <td>0.00002</td>\n",
              "      <td>-0.00001</td>\n",
              "      <td>0.00000</td>\n",
              "      <td>-0.00001</td>\n",
              "    </tr>\n",
              "  </tbody>\n",
              "</table>\n",
              "<p>1749211 rows × 8 columns</p>\n",
              "</div>"
            ],
            "text/plain": [
              "         channel1  channel2  channel3  ...  channel6  channel7  channel8\n",
              "2287     -0.00001   0.00000  -0.00001  ...  -0.00001  -0.00001   0.00001\n",
              "2288     -0.00001  -0.00002   0.00000  ...  -0.00001  -0.00003  -0.00002\n",
              "2289     -0.00001  -0.00002   0.00000  ...  -0.00001  -0.00003  -0.00002\n",
              "2290     -0.00001  -0.00002   0.00000  ...  -0.00001  -0.00003  -0.00002\n",
              "2291     -0.00001  -0.00002   0.00000  ...  -0.00001  -0.00003  -0.00002\n",
              "...           ...       ...       ...  ...       ...       ...       ...\n",
              "4123301   0.00059   0.00076   0.00008  ...  -0.00030  -0.00020   0.00006\n",
              "3378871  -0.00001   0.00000  -0.00002  ...   0.00001   0.00001  -0.00002\n",
              "676763   -0.00001   0.00000   0.00009  ...   0.00048   0.00010   0.00007\n",
              "444063   -0.00101   0.00005   0.00019  ...  -0.00011  -0.00006  -0.00027\n",
              "246857    0.00000   0.00000   0.00006  ...  -0.00001   0.00000  -0.00001\n",
              "\n",
              "[1749211 rows x 8 columns]"
            ]
          },
          "metadata": {},
          "execution_count": 74
        }
      ]
    },
    {
      "cell_type": "code",
      "metadata": {
        "id": "7mkhv-hZCTfa",
        "colab": {
          "base_uri": "https://localhost:8080/"
        },
        "outputId": "5f99d221-81dc-43ac-9f34-9f4b212dccaf"
      },
      "source": [
        "y= df[['class']].to_numpy() #target\n",
        "y"
      ],
      "execution_count": null,
      "outputs": [
        {
          "output_type": "execute_result",
          "data": {
            "text/plain": [
              "array([[1],\n",
              "       [1],\n",
              "       [1],\n",
              "       ...,\n",
              "       [0],\n",
              "       [0],\n",
              "       [0]])"
            ]
          },
          "metadata": {},
          "execution_count": 75
        }
      ]
    },
    {
      "cell_type": "markdown",
      "metadata": {
        "id": "wSKCFTyX2dUz"
      },
      "source": [
        "##Normalization"
      ]
    },
    {
      "cell_type": "code",
      "metadata": {
        "id": "IRyqF9FlWehB"
      },
      "source": [
        "x_normalizer=preprocessing.StandardScaler()\n",
        "\n",
        "x_norm=x_normalizer.fit_transform(x)\n"
      ],
      "execution_count": null,
      "outputs": []
    },
    {
      "cell_type": "markdown",
      "metadata": {
        "id": "wnc2JM8h2wt0"
      },
      "source": [
        "##train_test_split"
      ]
    },
    {
      "cell_type": "code",
      "metadata": {
        "id": "xsjL9LLCn2_u"
      },
      "source": [
        "x_train,x_test,y_train,y_test=model_selection.train_test_split(x_norm,y,test_size=0.05,random_state=42)"
      ],
      "execution_count": null,
      "outputs": []
    },
    {
      "cell_type": "markdown",
      "metadata": {
        "id": "B4o9H3G20G5n"
      },
      "source": [
        "#KNN"
      ]
    },
    {
      "cell_type": "markdown",
      "metadata": {
        "id": "m6EiX9nZBrWf"
      },
      "source": [
        "##Creating Model"
      ]
    },
    {
      "cell_type": "code",
      "metadata": {
        "colab": {
          "base_uri": "https://localhost:8080/"
        },
        "id": "0eJNFguqz3iF",
        "outputId": "bf6b11dd-5c70-4e4a-89e0-df013189278a"
      },
      "source": [
        "#Create a knn Classifier\n",
        "knn= KNeighborsClassifier(n_neighbors=10)\n",
        "#Train the model using the training sets\n",
        "knn.fit(x_train, y_train)"
      ],
      "execution_count": null,
      "outputs": [
        {
          "output_type": "stream",
          "name": "stderr",
          "text": [
            "/usr/local/lib/python3.7/dist-packages/ipykernel_launcher.py:4: DataConversionWarning: A column-vector y was passed when a 1d array was expected. Please change the shape of y to (n_samples, ), for example using ravel().\n",
            "  after removing the cwd from sys.path.\n"
          ]
        },
        {
          "output_type": "execute_result",
          "data": {
            "text/plain": [
              "KNeighborsClassifier(algorithm='auto', leaf_size=30, metric='minkowski',\n",
              "                     metric_params=None, n_jobs=None, n_neighbors=10, p=2,\n",
              "                     weights='uniform')"
            ]
          },
          "metadata": {},
          "execution_count": 26
        }
      ]
    },
    {
      "cell_type": "code",
      "metadata": {
        "id": "zcH-cIz5z6hU"
      },
      "source": [
        "#Predict the response for test dataset\n",
        "y_pred = knn.predict(x_test)"
      ],
      "execution_count": null,
      "outputs": []
    },
    {
      "cell_type": "markdown",
      "metadata": {
        "id": "PRXattItDqYy"
      },
      "source": [
        "##Evaluating Model"
      ]
    },
    {
      "cell_type": "code",
      "metadata": {
        "colab": {
          "base_uri": "https://localhost:8080/"
        },
        "id": "dkRcF6Qyz_E6",
        "outputId": "f920d96d-9c19-43d2-90b7-226eee1e03ea"
      },
      "source": [
        "print(\"Accuracy:\",metrics.accuracy_score(y_test, y_pred))\n",
        "print(\"recall_score : \",metrics.recall_score(y_test, y_pred,average='weighted'))\n",
        "print(\"Precision Score : \", metrics.precision_score(y_test, y_pred,average='weighted'))\n",
        "print(\"f1_score : \",metrics.f1_score(y_test, y_pred,average='weighted'))"
      ],
      "execution_count": null,
      "outputs": [
        {
          "output_type": "stream",
          "name": "stdout",
          "text": [
            "Accuracy: 0.8813070968774653\n",
            "recall_score :  0.8813070968774653\n",
            "Precision Score :  0.8770974517133585\n",
            "f1_score :  0.8689082804560048\n"
          ]
        }
      ]
    },
    {
      "cell_type": "markdown",
      "metadata": {
        "id": "le6YmKCKD055"
      },
      "source": [
        "##plot confusion matrix"
      ]
    },
    {
      "cell_type": "code",
      "metadata": {
        "colab": {
          "base_uri": "https://localhost:8080/",
          "height": 279
        },
        "id": "Fu_KvPM-5LPe",
        "outputId": "cd1df234-f3b0-4be5-fb67-04b1d0d0f4aa"
      },
      "source": [
        "#plot_confusion_matrix\n",
        "plot_confusion_matrix(knn,x_test,y_test)\n",
        "plt.show()"
      ],
      "execution_count": null,
      "outputs": [
        {
          "output_type": "display_data",
          "data": {
            "image/png": "[encoded data removed]",
            "text/plain": [
              "<Figure size 432x288 with 2 Axes>"
            ]
          },
          "metadata": {
            "needs_background": "light"
          }
        }
      ]
    },
    {
      "cell_type": "markdown",
      "metadata": {
        "id": "xvptICmv0Lgc"
      },
      "source": [
        "#DecisionTreeClassifier"
      ]
    },
    {
      "cell_type": "markdown",
      "metadata": {
        "id": "O8eREs1kE6GK"
      },
      "source": [
        "##Creating Model"
      ]
    },
    {
      "cell_type": "code",
      "metadata": {
        "colab": {
          "base_uri": "https://localhost:8080/"
        },
        "id": "ssjjK8Rl0OCj",
        "outputId": "14fecf02-29a5-4967-fc13-b3a25a7efdd5"
      },
      "source": [
        "#Create a DecisionTreeClassifier\n",
        "clf = DecisionTreeClassifier()\n",
        "#Train the model using the training sets\n",
        "clf.fit(x_train,y_train)"
      ],
      "execution_count": null,
      "outputs": [
        {
          "output_type": "execute_result",
          "data": {
            "text/plain": [
              "DecisionTreeClassifier(ccp_alpha=0.0, class_weight=None, criterion='gini',\n",
              "                       max_depth=None, max_features=None, max_leaf_nodes=None,\n",
              "                       min_impurity_decrease=0.0, min_impurity_split=None,\n",
              "                       min_samples_leaf=1, min_samples_split=2,\n",
              "                       min_weight_fraction_leaf=0.0, presort='deprecated',\n",
              "                       random_state=None, splitter='best')"
            ]
          },
          "metadata": {},
          "execution_count": 82
        }
      ]
    },
    {
      "cell_type": "code",
      "metadata": {
        "id": "LGPP3ltl0TOT"
      },
      "source": [
        "#Predict the response for test dataset\n",
        "y_pred = clf.predict(x_test)"
      ],
      "execution_count": null,
      "outputs": []
    },
    {
      "cell_type": "markdown",
      "metadata": {
        "id": "WFz0YYW0F44A"
      },
      "source": [
        "##Evaluating Model"
      ]
    },
    {
      "cell_type": "code",
      "metadata": {
        "colab": {
          "base_uri": "https://localhost:8080/"
        },
        "id": "kQKb57Y70WK_",
        "outputId": "152318b6-3767-415b-cc6c-ade600180c3c"
      },
      "source": [
        "print(\"Accuracy:\",metrics.accuracy_score(y_test, y_pred))\n",
        "print(\"recall_score : \",metrics.recall_score(y_test, y_pred,average='weighted'))\n",
        "print(\"Precision Score : \", metrics.precision_score(y_test, y_pred,average='weighted'))\n",
        "print(\"f1_score : \",metrics.f1_score(y_test, y_pred,average='weighted'))"
      ],
      "execution_count": null,
      "outputs": [
        {
          "output_type": "stream",
          "name": "stdout",
          "text": [
            "Accuracy: 0.9569065069002184\n",
            "recall_score :  0.9569065069002184\n",
            "Precision Score :  0.9564167423655069\n",
            "f1_score :  0.9565030901720019\n"
          ]
        }
      ]
    },
    {
      "cell_type": "markdown",
      "metadata": {
        "id": "6FDdvFgbF7E9"
      },
      "source": [
        "##plot confusion matrix"
      ]
    },
    {
      "cell_type": "code",
      "metadata": {
        "colab": {
          "base_uri": "https://localhost:8080/",
          "height": 279
        },
        "id": "5Zo_96oC5OtC",
        "outputId": "bcd790e8-80c7-493e-dcf6-d6a0a1d64235"
      },
      "source": [
        "#plot_confusion_matrix\n",
        "plot_confusion_matrix(clf,x_test,y_test)\n",
        "plt.show()"
      ],
      "execution_count": null,
      "outputs": [
        {
          "output_type": "display_data",
          "data": {
            "image/png": "[encoded data removed]",
            "text/plain": [
              "<Figure size 432x288 with 2 Axes>"
            ]
          },
          "metadata": {
            "needs_background": "light"
          }
        }
      ]
    },
    {
      "cell_type": "markdown",
      "metadata": {
        "id": "vzAI2BTe0_Un"
      },
      "source": [
        "#RandomForestClassifier (the best model)"
      ]
    },
    {
      "cell_type": "markdown",
      "metadata": {
        "id": "U13coGN4GrOl"
      },
      "source": [
        "##Creating Model"
      ]
    },
    {
      "cell_type": "code",
      "metadata": {
        "colab": {
          "base_uri": "https://localhost:8080/"
        },
        "id": "iDDQbo_31Csz",
        "outputId": "acd0e93f-69fd-482d-b9a7-a7108f4e43a0"
      },
      "source": [
        "#Create a RandomForestClassifier\n",
        "rf= RandomForestClassifier()\n",
        "#Train the model using the training sets\n",
        "rf.fit(x_train, y_train)"
      ],
      "execution_count": null,
      "outputs": [
        {
          "output_type": "stream",
          "name": "stderr",
          "text": [
            "/usr/local/lib/python3.7/dist-packages/ipykernel_launcher.py:4: DataConversionWarning: A column-vector y was passed when a 1d array was expected. Please change the shape of y to (n_samples,), for example using ravel().\n",
            "  after removing the cwd from sys.path.\n"
          ]
        },
        {
          "output_type": "execute_result",
          "data": {
            "text/plain": [
              "RandomForestClassifier(bootstrap=True, ccp_alpha=0.0, class_weight=None,\n",
              "                       criterion='gini', max_depth=None, max_features='auto',\n",
              "                       max_leaf_nodes=None, max_samples=None,\n",
              "                       min_impurity_decrease=0.0, min_impurity_split=None,\n",
              "                       min_samples_leaf=1, min_samples_split=2,\n",
              "                       min_weight_fraction_leaf=0.0, n_estimators=100,\n",
              "                       n_jobs=None, oob_score=False, random_state=None,\n",
              "                       verbose=0, warm_start=False)"
            ]
          },
          "metadata": {},
          "execution_count": 86
        }
      ]
    },
    {
      "cell_type": "code",
      "metadata": {
        "id": "S0p1KFQ22-l2"
      },
      "source": [
        "#Predict the response for test dataset\n",
        "y_pred = rf.predict(x_test)"
      ],
      "execution_count": null,
      "outputs": []
    },
    {
      "cell_type": "markdown",
      "metadata": {
        "id": "1gcV2ORxHuRR"
      },
      "source": [
        "##Evaluating Model"
      ]
    },
    {
      "cell_type": "code",
      "metadata": {
        "colab": {
          "base_uri": "https://localhost:8080/"
        },
        "id": "P6YidGLw3ObD",
        "outputId": "7dd69f01-50fe-428a-c5da-68a79e9a34ab"
      },
      "source": [
        "print(\"Accuracy:\",metrics.accuracy_score(y_test, y_pred))\n",
        "print(\"recall_score : \",metrics.recall_score(y_test, y_pred,average='weighted'))\n",
        "print(\"Precision Score : \", metrics.precision_score(y_test, y_pred,average='weighted'))\n",
        "print(\"f1_score : \",metrics.f1_score(y_test, y_pred,average='weighted'))"
      ],
      "execution_count": null,
      "outputs": [
        {
          "output_type": "stream",
          "name": "stdout",
          "text": [
            "Accuracy: 0.966522221332937\n",
            "recall_score :  0.966522221332937\n",
            "Precision Score :  0.9664939000891307\n",
            "f1_score :  0.9664982873436829\n"
          ]
        }
      ]
    },
    {
      "cell_type": "markdown",
      "metadata": {
        "id": "D-MJc6jjH0nQ"
      },
      "source": [
        "##plot confusion matrix"
      ]
    },
    {
      "cell_type": "code",
      "metadata": {
        "colab": {
          "base_uri": "https://localhost:8080/",
          "height": 279
        },
        "id": "RYkw2fou5ZA0",
        "outputId": "4662318b-a6e3-4e71-9de3-a9e81bfa8dc4"
      },
      "source": [
        "#plot_confusion_matrix\n",
        "plot_confusion_matrix(rf,x_test,y_test)\n",
        "plt.show()"
      ],
      "execution_count": null,
      "outputs": [
        {
          "output_type": "display_data",
          "data": {
            "image/png": "[encoded data removed]",
            "text/plain": [
              "<Figure size 432x288 with 2 Axes>"
            ]
          },
          "metadata": {
            "needs_background": "light"
          }
        }
      ]
    },
    {
      "cell_type": "markdown",
      "metadata": {
        "id": "PlsPo7rRCrMr"
      },
      "source": [
        "#DNN"
      ]
    },
    {
      "cell_type": "markdown",
      "metadata": {
        "id": "F56yqH_xC7kl"
      },
      "source": [
        "##DNN preprocessing step"
      ]
    },
    {
      "cell_type": "code",
      "metadata": {
        "colab": {
          "base_uri": "https://localhost:8080/"
        },
        "id": "KIxwl-SkCteV",
        "outputId": "eeb3cb0d-02c6-40a6-df81-dc601764a4f6"
      },
      "source": [
        "Y=df['class'] #dnn target\n",
        "Y"
      ],
      "execution_count": null,
      "outputs": [
        {
          "output_type": "execute_result",
          "data": {
            "text/plain": [
              "2287       1\n",
              "2288       1\n",
              "2289       1\n",
              "2290       1\n",
              "2291       1\n",
              "          ..\n",
              "4123301    0\n",
              "3378871    0\n",
              "676763     0\n",
              "444063     0\n",
              "246857     0\n",
              "Name: class, Length: 1749211, dtype: int64"
            ]
          },
          "metadata": {},
          "execution_count": 77
        }
      ]
    },
    {
      "cell_type": "markdown",
      "metadata": {
        "id": "Oy9tCtmzDKyo"
      },
      "source": [
        "##DNN Train/Test/Validation Splitting"
      ]
    },
    {
      "cell_type": "code",
      "metadata": {
        "id": "KIhTSSgRDMQh"
      },
      "source": [
        "x_train,x_test,Y_train,Y_test=model_selection.train_test_split(x_norm,Y,test_size=0.05,random_state=42)  #train_test_split"
      ],
      "execution_count": null,
      "outputs": []
    },
    {
      "cell_type": "code",
      "metadata": {
        "id": "jJ3U4sEJDUmk"
      },
      "source": [
        "x_train, x_val, Y_train, Y_val =train_test_split(x_train, Y_train, test_size=0.05, random_state=42)     #train_val_split"
      ],
      "execution_count": null,
      "outputs": []
    },
    {
      "cell_type": "markdown",
      "metadata": {
        "id": "DmxhKJooDfIZ"
      },
      "source": [
        "##one-hot encodeing"
      ]
    },
    {
      "cell_type": "code",
      "metadata": {
        "id": "w0xKLsW9DmFw"
      },
      "source": [
        "\n",
        "#convert the labels to one-hot vector for Y_train and Y_test and Y_val using one-hot encodeing\n",
        "Y_train_hot=tf.one_hot(Y_train,depth=len(set(Y_train)))\n",
        "Y_test_hot=tf.one_hot(Y_test,depth=len(set(Y_train)))\n",
        "Y_val_hot=tf.one_hot(Y_val,depth=len(set(Y_train)))"
      ],
      "execution_count": null,
      "outputs": []
    },
    {
      "cell_type": "code",
      "metadata": {
        "id": "xJt8skVO-hSI"
      },
      "source": [
        "tf.keras.backend.clear_session()"
      ],
      "execution_count": null,
      "outputs": []
    },
    {
      "cell_type": "markdown",
      "metadata": {
        "id": "5y1Ra67ANRhR"
      },
      "source": [
        "##creat a Sequentail model"
      ]
    },
    {
      "cell_type": "code",
      "metadata": {
        "id": "iIRoRF0MM5Jh"
      },
      "source": [
        "#creat a Sequentail model using keras\n",
        "model=tf.keras.models.Sequential([\n",
        "                                  tf.keras.layers.Input(shape=(8,)),\n",
        "                                  tf.keras.layers.Dense(units=64,activation=tf.nn.leaky_relu,kernel_initializer=tf.initializers.he_uniform(seed=42),name='layer_1'),\n",
        "                                \n",
        "                                  tf.keras.layers.Dense(units=128,activation=tf.nn.leaky_relu,kernel_initializer=tf.initializers.he_uniform(seed=42),name='layer_2'),\n",
        "                                  \n",
        "                                  tf.keras.layers.Dense(units=512,activation=tf.nn.leaky_relu,kernel_initializer=tf.initializers.he_uniform(seed=42),name='layer_3'),\n",
        "                                  tf.keras.layers.Dropout(0.1),\n",
        "                                  tf.keras.layers.Dense(units=256,activation=tf.nn.leaky_relu,kernel_initializer=tf.initializers.he_uniform(seed=42),name='layer_4'),\n",
        "                                 \n",
        "                                  tf.keras.layers.Dense(units=128,activation=tf.nn.leaky_relu,kernel_initializer=tf.initializers.he_uniform(seed=42),name='layer_5'),\n",
        "                                  \n",
        "                                  tf.keras.layers.Dense(units=7,activation=tf.nn.softmax,name='output')\n",
        "])"
      ],
      "execution_count": null,
      "outputs": []
    },
    {
      "cell_type": "code",
      "metadata": {
        "colab": {
          "base_uri": "https://localhost:8080/"
        },
        "id": "44_ZB8mknlYi",
        "outputId": "4bdfa539-9d1d-4050-f6f4-d225bdc77d6f"
      },
      "source": [
        "#show the model info\n",
        "model.summary()"
      ],
      "execution_count": null,
      "outputs": [
        {
          "output_type": "stream",
          "name": "stdout",
          "text": [
            "Model: \"sequential\"\n",
            "_________________________________________________________________\n",
            "Layer (type)                 Output Shape              Param #   \n",
            "=================================================================\n",
            "layer_1 (Dense)              (None, 64)                576       \n",
            "_________________________________________________________________\n",
            "layer_2 (Dense)              (None, 128)               8320      \n",
            "_________________________________________________________________\n",
            "layer_3 (Dense)              (None, 512)               66048     \n",
            "_________________________________________________________________\n",
            "dropout (Dropout)            (None, 512)               0         \n",
            "_________________________________________________________________\n",
            "layer_4 (Dense)              (None, 256)               131328    \n",
            "_________________________________________________________________\n",
            "layer_5 (Dense)              (None, 128)               32896     \n",
            "_________________________________________________________________\n",
            "output (Dense)               (None, 7)                 903       \n",
            "=================================================================\n",
            "Total params: 240,071\n",
            "Trainable params: 240,071\n",
            "Non-trainable params: 0\n",
            "_________________________________________________________________\n"
          ]
        }
      ]
    },
    {
      "cell_type": "code",
      "metadata": {
        "id": "a_ThsrtRnpSc"
      },
      "source": [
        "#compile the model an using adam optimizer with Categorical crossentropy cost function\n",
        "model.compile(optimizer=tf.optimizers.Adam(),loss=tf.losses.CategoricalCrossentropy(),metrics=['acc'])"
      ],
      "execution_count": null,
      "outputs": []
    },
    {
      "cell_type": "code",
      "metadata": {
        "colab": {
          "base_uri": "https://localhost:8080/"
        },
        "id": "crc4lpLRnvC5",
        "outputId": "8f4d3892-bc56-4c1d-9000-021958ee022d"
      },
      "source": [
        "#train the model with batch_size=128,for 150 epochs\n",
        "model.fit(x=x_train,y=Y_train_hot,batch_size=128,epochs=150,validation_data=(x_val,Y_val_hot))"
      ],
      "execution_count": null,
      "outputs": [
        {
          "output_type": "stream",
          "name": "stdout",
          "text": [
            "Epoch 1/150\n",
            "12334/12334 [==============================] - 53s 4ms/step - loss: 1.1260 - acc: 0.5682 - val_loss: 1.0721 - val_acc: 0.5858\n",
            "Epoch 2/150\n",
            "12334/12334 [==============================] - 53s 4ms/step - loss: 1.0624 - acc: 0.5906 - val_loss: 1.0495 - val_acc: 0.5950\n",
            "Epoch 3/150\n",
            "12334/12334 [==============================] - 52s 4ms/step - loss: 1.0342 - acc: 0.6019 - val_loss: 1.0135 - val_acc: 0.6094\n",
            "Epoch 4/150\n",
            "12334/12334 [==============================] - 52s 4ms/step - loss: 1.0101 - acc: 0.6112 - val_loss: 0.9918 - val_acc: 0.6178\n",
            "Epoch 5/150\n",
            "12334/12334 [==============================] - 52s 4ms/step - loss: 0.9871 - acc: 0.6206 - val_loss: 0.9647 - val_acc: 0.6283\n",
            "Epoch 6/150\n",
            "12334/12334 [==============================] - 52s 4ms/step - loss: 0.9664 - acc: 0.6293 - val_loss: 0.9430 - val_acc: 0.6383\n",
            "Epoch 7/150\n",
            "12334/12334 [==============================] - 52s 4ms/step - loss: 0.9465 - acc: 0.6378 - val_loss: 0.9247 - val_acc: 0.6500\n",
            "Epoch 8/150\n",
            "12334/12334 [==============================] - 51s 4ms/step - loss: 0.9290 - acc: 0.6455 - val_loss: 0.9163 - val_acc: 0.6539\n",
            "Epoch 9/150\n",
            "12334/12334 [==============================] - 52s 4ms/step - loss: 0.9118 - acc: 0.6530 - val_loss: 0.8901 - val_acc: 0.6641\n",
            "Epoch 10/150\n",
            "12334/12334 [==============================] - 51s 4ms/step - loss: 0.8970 - acc: 0.6587 - val_loss: 0.8682 - val_acc: 0.6746\n",
            "Epoch 11/150\n",
            "12334/12334 [==============================] - 51s 4ms/step - loss: 0.8834 - acc: 0.6651 - val_loss: 0.8578 - val_acc: 0.6791\n",
            "Epoch 12/150\n",
            "12334/12334 [==============================] - 51s 4ms/step - loss: 0.8716 - acc: 0.6706 - val_loss: 0.8478 - val_acc: 0.6811\n",
            "Epoch 13/150\n",
            "12334/12334 [==============================] - 52s 4ms/step - loss: 0.8603 - acc: 0.6750 - val_loss: 0.8360 - val_acc: 0.6877\n",
            "Epoch 14/150\n",
            "12334/12334 [==============================] - 52s 4ms/step - loss: 0.8506 - acc: 0.6794 - val_loss: 0.8163 - val_acc: 0.6964\n",
            "Epoch 15/150\n",
            "12334/12334 [==============================] - 51s 4ms/step - loss: 0.8408 - acc: 0.6839 - val_loss: 0.8149 - val_acc: 0.6961\n",
            "Epoch 16/150\n",
            "12334/12334 [==============================] - 51s 4ms/step - loss: 0.8330 - acc: 0.6872 - val_loss: 0.8001 - val_acc: 0.7043\n",
            "Epoch 17/150\n",
            "12334/12334 [==============================] - 51s 4ms/step - loss: 0.8251 - acc: 0.6900 - val_loss: 0.8000 - val_acc: 0.7006\n",
            "Epoch 18/150\n",
            "12334/12334 [==============================] - 52s 4ms/step - loss: 0.8183 - acc: 0.6933 - val_loss: 0.7909 - val_acc: 0.7072\n",
            "Epoch 19/150\n",
            "12334/12334 [==============================] - 51s 4ms/step - loss: 0.8120 - acc: 0.6959 - val_loss: 0.7821 - val_acc: 0.7097\n",
            "Epoch 20/150\n",
            "12334/12334 [==============================] - 51s 4ms/step - loss: 0.8059 - acc: 0.6989 - val_loss: 0.7696 - val_acc: 0.7169\n",
            "Epoch 21/150\n",
            "12334/12334 [==============================] - 51s 4ms/step - loss: 0.8013 - acc: 0.7009 - val_loss: 0.7596 - val_acc: 0.7212\n",
            "Epoch 22/150\n",
            "12334/12334 [==============================] - 51s 4ms/step - loss: 0.7948 - acc: 0.7034 - val_loss: 0.7670 - val_acc: 0.7186\n",
            "Epoch 23/150\n",
            "12334/12334 [==============================] - 51s 4ms/step - loss: 0.7902 - acc: 0.7050 - val_loss: 0.7562 - val_acc: 0.7235\n",
            "Epoch 24/150\n",
            "12334/12334 [==============================] - 52s 4ms/step - loss: 0.7861 - acc: 0.7070 - val_loss: 0.7507 - val_acc: 0.7259\n",
            "Epoch 25/150\n",
            "12334/12334 [==============================] - 53s 4ms/step - loss: 0.7812 - acc: 0.7095 - val_loss: 0.7378 - val_acc: 0.7302\n",
            "Epoch 26/150\n",
            "12334/12334 [==============================] - 52s 4ms/step - loss: 0.7775 - acc: 0.7107 - val_loss: 0.7347 - val_acc: 0.7293\n",
            "Epoch 27/150\n",
            "12334/12334 [==============================] - 52s 4ms/step - loss: 0.7733 - acc: 0.7124 - val_loss: 0.7560 - val_acc: 0.7230\n",
            "Epoch 28/150\n",
            "12334/12334 [==============================] - 53s 4ms/step - loss: 0.7698 - acc: 0.7139 - val_loss: 0.7176 - val_acc: 0.7390\n",
            "Epoch 29/150\n",
            "12334/12334 [==============================] - 53s 4ms/step - loss: 0.7671 - acc: 0.7149 - val_loss: 0.7292 - val_acc: 0.7338\n",
            "Epoch 30/150\n",
            "12334/12334 [==============================] - 52s 4ms/step - loss: 0.7641 - acc: 0.7163 - val_loss: 0.7226 - val_acc: 0.7359\n",
            "Epoch 31/150\n",
            "12334/12334 [==============================] - 52s 4ms/step - loss: 0.7612 - acc: 0.7179 - val_loss: 0.7154 - val_acc: 0.7375\n",
            "Epoch 32/150\n",
            "12334/12334 [==============================] - 53s 4ms/step - loss: 0.7582 - acc: 0.7188 - val_loss: 0.7196 - val_acc: 0.7342\n",
            "Epoch 33/150\n",
            "12334/12334 [==============================] - 51s 4ms/step - loss: 0.7552 - acc: 0.7202 - val_loss: 0.7136 - val_acc: 0.7427\n",
            "Epoch 34/150\n",
            "12334/12334 [==============================] - 53s 4ms/step - loss: 0.7525 - acc: 0.7213 - val_loss: 0.6936 - val_acc: 0.7514\n",
            "Epoch 35/150\n",
            "12334/12334 [==============================] - 52s 4ms/step - loss: 0.7510 - acc: 0.7220 - val_loss: 0.7012 - val_acc: 0.7459\n",
            "Epoch 36/150\n",
            "12334/12334 [==============================] - 52s 4ms/step - loss: 0.7471 - acc: 0.7233 - val_loss: 0.7104 - val_acc: 0.7437\n",
            "Epoch 37/150\n",
            "12334/12334 [==============================] - 51s 4ms/step - loss: 0.7456 - acc: 0.7241 - val_loss: 0.6918 - val_acc: 0.7483\n",
            "Epoch 38/150\n",
            "12334/12334 [==============================] - 52s 4ms/step - loss: 0.7441 - acc: 0.7249 - val_loss: 0.6891 - val_acc: 0.7529\n",
            "Epoch 39/150\n",
            "12334/12334 [==============================] - 52s 4ms/step - loss: 0.7418 - acc: 0.7256 - val_loss: 0.6896 - val_acc: 0.7526\n",
            "Epoch 40/150\n",
            "12334/12334 [==============================] - 53s 4ms/step - loss: 0.7401 - acc: 0.7267 - val_loss: 0.6925 - val_acc: 0.7500\n",
            "Epoch 41/150\n",
            "12334/12334 [==============================] - 53s 4ms/step - loss: 0.7375 - acc: 0.7277 - val_loss: 0.6792 - val_acc: 0.7538\n",
            "Epoch 42/150\n",
            "12334/12334 [==============================] - 53s 4ms/step - loss: 0.7366 - acc: 0.7281 - val_loss: 0.6798 - val_acc: 0.7561\n",
            "Epoch 43/150\n",
            "12334/12334 [==============================] - 53s 4ms/step - loss: 0.7341 - acc: 0.7291 - val_loss: 0.6740 - val_acc: 0.7611\n",
            "Epoch 44/150\n",
            "12334/12334 [==============================] - 53s 4ms/step - loss: 0.7321 - acc: 0.7300 - val_loss: 0.6932 - val_acc: 0.7474\n",
            "Epoch 45/150\n",
            "12334/12334 [==============================] - 53s 4ms/step - loss: 0.7309 - acc: 0.7307 - val_loss: 0.6724 - val_acc: 0.7568\n",
            "Epoch 46/150\n",
            "12334/12334 [==============================] - 52s 4ms/step - loss: 0.7297 - acc: 0.7311 - val_loss: 0.6756 - val_acc: 0.7569\n",
            "Epoch 47/150\n",
            "12334/12334 [==============================] - 53s 4ms/step - loss: 0.7271 - acc: 0.7320 - val_loss: 0.6692 - val_acc: 0.7601\n",
            "Epoch 48/150\n",
            "12334/12334 [==============================] - 52s 4ms/step - loss: 0.7257 - acc: 0.7326 - val_loss: 0.6765 - val_acc: 0.7584\n",
            "Epoch 49/150\n",
            "12334/12334 [==============================] - 52s 4ms/step - loss: 0.7249 - acc: 0.7331 - val_loss: 0.6564 - val_acc: 0.7649\n",
            "Epoch 50/150\n",
            "12334/12334 [==============================] - 53s 4ms/step - loss: 0.7229 - acc: 0.7336 - val_loss: 0.6808 - val_acc: 0.7552\n",
            "Epoch 51/150\n",
            "12334/12334 [==============================] - 53s 4ms/step - loss: 0.7223 - acc: 0.7339 - val_loss: 0.6586 - val_acc: 0.7655\n",
            "Epoch 52/150\n",
            "12334/12334 [==============================] - 52s 4ms/step - loss: 0.7207 - acc: 0.7349 - val_loss: 0.6709 - val_acc: 0.7616\n",
            "Epoch 53/150\n",
            "12334/12334 [==============================] - 52s 4ms/step - loss: 0.7187 - acc: 0.7354 - val_loss: 0.6588 - val_acc: 0.7649\n",
            "Epoch 54/150\n",
            "12334/12334 [==============================] - 54s 4ms/step - loss: 0.7178 - acc: 0.7358 - val_loss: 0.6567 - val_acc: 0.7643\n",
            "Epoch 55/150\n",
            "12334/12334 [==============================] - 53s 4ms/step - loss: 0.7176 - acc: 0.7362 - val_loss: 0.6594 - val_acc: 0.7660\n",
            "Epoch 56/150\n",
            "12334/12334 [==============================] - 52s 4ms/step - loss: 0.7162 - acc: 0.7363 - val_loss: 0.6603 - val_acc: 0.7651\n",
            "Epoch 57/150\n",
            "12334/12334 [==============================] - 54s 4ms/step - loss: 0.7149 - acc: 0.7368 - val_loss: 0.6658 - val_acc: 0.7631\n",
            "Epoch 58/150\n",
            "12334/12334 [==============================] - 54s 4ms/step - loss: 0.7134 - acc: 0.7377 - val_loss: 0.6597 - val_acc: 0.7652\n",
            "Epoch 59/150\n",
            "12334/12334 [==============================] - 54s 4ms/step - loss: 0.7138 - acc: 0.7377 - val_loss: 0.6500 - val_acc: 0.7675\n",
            "Epoch 60/150\n",
            "12334/12334 [==============================] - 53s 4ms/step - loss: 0.7115 - acc: 0.7388 - val_loss: 0.6547 - val_acc: 0.7659\n",
            "Epoch 61/150\n",
            "12334/12334 [==============================] - 52s 4ms/step - loss: 0.7112 - acc: 0.7388 - val_loss: 0.6552 - val_acc: 0.7652\n",
            "Epoch 62/150\n",
            "12334/12334 [==============================] - 52s 4ms/step - loss: 0.7099 - acc: 0.7390 - val_loss: 0.6551 - val_acc: 0.7679\n",
            "Epoch 63/150\n",
            "12334/12334 [==============================] - 52s 4ms/step - loss: 0.7095 - acc: 0.7396 - val_loss: 0.6475 - val_acc: 0.7693\n",
            "Epoch 64/150\n",
            "12334/12334 [==============================] - 52s 4ms/step - loss: 0.7070 - acc: 0.7405 - val_loss: 0.6566 - val_acc: 0.7642\n",
            "Epoch 65/150\n",
            "12334/12334 [==============================] - 53s 4ms/step - loss: 0.7069 - acc: 0.7404 - val_loss: 0.6487 - val_acc: 0.7710\n",
            "Epoch 66/150\n",
            "12334/12334 [==============================] - 53s 4ms/step - loss: 0.7072 - acc: 0.7405 - val_loss: 0.6535 - val_acc: 0.7683\n",
            "Epoch 67/150\n",
            "12334/12334 [==============================] - 54s 4ms/step - loss: 0.7056 - acc: 0.7411 - val_loss: 0.6444 - val_acc: 0.7703\n",
            "Epoch 68/150\n",
            "12334/12334 [==============================] - 54s 4ms/step - loss: 0.7047 - acc: 0.7412 - val_loss: 0.6495 - val_acc: 0.7701\n",
            "Epoch 69/150\n",
            "12334/12334 [==============================] - 53s 4ms/step - loss: 0.7032 - acc: 0.7419 - val_loss: 0.6517 - val_acc: 0.7668\n",
            "Epoch 70/150\n",
            "12334/12334 [==============================] - 53s 4ms/step - loss: 0.7032 - acc: 0.7421 - val_loss: 0.6450 - val_acc: 0.7701\n",
            "Epoch 71/150\n",
            "12334/12334 [==============================] - 53s 4ms/step - loss: 0.7025 - acc: 0.7425 - val_loss: 0.6427 - val_acc: 0.7717\n",
            "Epoch 72/150\n",
            "12334/12334 [==============================] - 53s 4ms/step - loss: 0.7016 - acc: 0.7425 - val_loss: 0.6440 - val_acc: 0.7708\n",
            "Epoch 73/150\n",
            "12334/12334 [==============================] - 54s 4ms/step - loss: 0.7011 - acc: 0.7431 - val_loss: 0.6493 - val_acc: 0.7720\n",
            "Epoch 74/150\n",
            "12334/12334 [==============================] - 54s 4ms/step - loss: 0.7004 - acc: 0.7431 - val_loss: 0.6513 - val_acc: 0.7726\n",
            "Epoch 75/150\n",
            "12334/12334 [==============================] - 53s 4ms/step - loss: 0.6998 - acc: 0.7434 - val_loss: 0.6428 - val_acc: 0.7696\n",
            "Epoch 76/150\n",
            "12334/12334 [==============================] - 55s 4ms/step - loss: 0.6990 - acc: 0.7439 - val_loss: 0.6413 - val_acc: 0.7721\n",
            "Epoch 77/150\n",
            "12334/12334 [==============================] - 54s 4ms/step - loss: 0.6974 - acc: 0.7444 - val_loss: 0.6323 - val_acc: 0.7763\n",
            "Epoch 78/150\n",
            "12334/12334 [==============================] - 53s 4ms/step - loss: 0.6967 - acc: 0.7446 - val_loss: 0.6420 - val_acc: 0.7717\n",
            "Epoch 79/150\n",
            "12334/12334 [==============================] - 54s 4ms/step - loss: 0.6971 - acc: 0.7445 - val_loss: 0.6467 - val_acc: 0.7713\n",
            "Epoch 80/150\n",
            "12334/12334 [==============================] - 53s 4ms/step - loss: 0.6960 - acc: 0.7451 - val_loss: 0.6278 - val_acc: 0.7731\n",
            "Epoch 81/150\n",
            "12334/12334 [==============================] - 54s 4ms/step - loss: 0.6952 - acc: 0.7451 - val_loss: 0.6325 - val_acc: 0.7762\n",
            "Epoch 82/150\n",
            "12334/12334 [==============================] - 54s 4ms/step - loss: 0.6943 - acc: 0.7454 - val_loss: 0.6400 - val_acc: 0.7746\n",
            "Epoch 83/150\n",
            "12334/12334 [==============================] - 53s 4ms/step - loss: 0.6942 - acc: 0.7454 - val_loss: 0.6383 - val_acc: 0.7700\n",
            "Epoch 84/150\n",
            "12334/12334 [==============================] - 54s 4ms/step - loss: 0.6933 - acc: 0.7465 - val_loss: 0.6251 - val_acc: 0.7808\n",
            "Epoch 85/150\n",
            "12334/12334 [==============================] - 54s 4ms/step - loss: 0.6931 - acc: 0.7459 - val_loss: 0.6351 - val_acc: 0.7738\n",
            "Epoch 86/150\n",
            "12334/12334 [==============================] - 54s 4ms/step - loss: 0.6918 - acc: 0.7467 - val_loss: 0.6359 - val_acc: 0.7777\n",
            "Epoch 87/150\n",
            "12334/12334 [==============================] - 53s 4ms/step - loss: 0.6921 - acc: 0.7463 - val_loss: 0.6384 - val_acc: 0.7749\n",
            "Epoch 88/150\n",
            "12334/12334 [==============================] - 54s 4ms/step - loss: 0.6911 - acc: 0.7470 - val_loss: 0.6294 - val_acc: 0.7776\n",
            "Epoch 89/150\n",
            "12334/12334 [==============================] - 53s 4ms/step - loss: 0.6905 - acc: 0.7474 - val_loss: 0.6223 - val_acc: 0.7787\n",
            "Epoch 90/150\n",
            "12334/12334 [==============================] - 54s 4ms/step - loss: 0.6899 - acc: 0.7478 - val_loss: 0.6377 - val_acc: 0.7788\n",
            "Epoch 91/150\n",
            "12334/12334 [==============================] - 53s 4ms/step - loss: 0.6897 - acc: 0.7476 - val_loss: 0.6230 - val_acc: 0.7769\n",
            "Epoch 92/150\n",
            "12334/12334 [==============================] - 54s 4ms/step - loss: 0.6902 - acc: 0.7471 - val_loss: 0.6309 - val_acc: 0.7757\n",
            "Epoch 93/150\n",
            "12334/12334 [==============================] - 54s 4ms/step - loss: 0.6878 - acc: 0.7486 - val_loss: 0.6262 - val_acc: 0.7785\n",
            "Epoch 94/150\n",
            "12334/12334 [==============================] - 54s 4ms/step - loss: 0.6890 - acc: 0.7479 - val_loss: 0.6347 - val_acc: 0.7760\n",
            "Epoch 95/150\n",
            "12334/12334 [==============================] - 55s 4ms/step - loss: 0.6879 - acc: 0.7483 - val_loss: 0.6200 - val_acc: 0.7809\n",
            "Epoch 96/150\n",
            "12334/12334 [==============================] - 55s 4ms/step - loss: 0.6875 - acc: 0.7488 - val_loss: 0.6221 - val_acc: 0.7799\n",
            "Epoch 97/150\n",
            "12334/12334 [==============================] - 54s 4ms/step - loss: 0.6865 - acc: 0.7486 - val_loss: 0.6482 - val_acc: 0.7720\n",
            "Epoch 98/150\n",
            "12334/12334 [==============================] - 54s 4ms/step - loss: 0.6862 - acc: 0.7492 - val_loss: 0.6256 - val_acc: 0.7838\n",
            "Epoch 99/150\n",
            "12334/12334 [==============================] - 54s 4ms/step - loss: 0.6859 - acc: 0.7491 - val_loss: 0.6239 - val_acc: 0.7787\n",
            "Epoch 100/150\n",
            "12334/12334 [==============================] - 55s 4ms/step - loss: 0.6854 - acc: 0.7491 - val_loss: 0.6514 - val_acc: 0.7633\n",
            "Epoch 101/150\n",
            "12334/12334 [==============================] - 55s 4ms/step - loss: 0.6852 - acc: 0.7495 - val_loss: 0.6200 - val_acc: 0.7814\n",
            "Epoch 102/150\n",
            "12334/12334 [==============================] - 55s 4ms/step - loss: 0.6845 - acc: 0.7498 - val_loss: 0.6258 - val_acc: 0.7810\n",
            "Epoch 103/150\n",
            "12334/12334 [==============================] - 53s 4ms/step - loss: 0.6837 - acc: 0.7499 - val_loss: 0.6204 - val_acc: 0.7802\n",
            "Epoch 104/150\n",
            "12334/12334 [==============================] - 54s 4ms/step - loss: 0.6835 - acc: 0.7500 - val_loss: 0.6223 - val_acc: 0.7809\n",
            "Epoch 105/150\n",
            "12334/12334 [==============================] - 55s 4ms/step - loss: 0.6830 - acc: 0.7504 - val_loss: 0.6086 - val_acc: 0.7855\n",
            "Epoch 106/150\n",
            "12334/12334 [==============================] - 55s 4ms/step - loss: 0.6833 - acc: 0.7502 - val_loss: 0.6287 - val_acc: 0.7776\n",
            "Epoch 107/150\n",
            "12334/12334 [==============================] - 54s 4ms/step - loss: 0.6821 - acc: 0.7509 - val_loss: 0.6345 - val_acc: 0.7810\n",
            "Epoch 108/150\n",
            "12334/12334 [==============================] - 55s 4ms/step - loss: 0.6823 - acc: 0.7505 - val_loss: 0.6209 - val_acc: 0.7797\n",
            "Epoch 109/150\n",
            "12334/12334 [==============================] - 54s 4ms/step - loss: 0.6820 - acc: 0.7505 - val_loss: 0.6139 - val_acc: 0.7828\n",
            "Epoch 110/150\n",
            "12334/12334 [==============================] - 55s 4ms/step - loss: 0.6824 - acc: 0.7504 - val_loss: 0.6268 - val_acc: 0.7787\n",
            "Epoch 111/150\n",
            "12334/12334 [==============================] - 54s 4ms/step - loss: 0.6808 - acc: 0.7512 - val_loss: 0.6132 - val_acc: 0.7862\n",
            "Epoch 112/150\n",
            "12334/12334 [==============================] - 53s 4ms/step - loss: 0.6806 - acc: 0.7513 - val_loss: 0.6202 - val_acc: 0.7834\n",
            "Epoch 113/150\n",
            "12334/12334 [==============================] - 54s 4ms/step - loss: 0.6806 - acc: 0.7511 - val_loss: 0.6252 - val_acc: 0.7761\n",
            "Epoch 114/150\n",
            "12334/12334 [==============================] - 54s 4ms/step - loss: 0.6801 - acc: 0.7513 - val_loss: 0.6261 - val_acc: 0.7741\n",
            "Epoch 115/150\n",
            "12334/12334 [==============================] - 55s 4ms/step - loss: 0.6798 - acc: 0.7521 - val_loss: 0.6131 - val_acc: 0.7830\n",
            "Epoch 116/150\n",
            "12334/12334 [==============================] - 55s 4ms/step - loss: 0.6790 - acc: 0.7515 - val_loss: 0.6163 - val_acc: 0.7846\n",
            "Epoch 117/150\n",
            "12334/12334 [==============================] - 55s 4ms/step - loss: 0.6790 - acc: 0.7518 - val_loss: 0.6114 - val_acc: 0.7819\n",
            "Epoch 118/150\n",
            "12334/12334 [==============================] - 54s 4ms/step - loss: 0.6785 - acc: 0.7523 - val_loss: 0.6137 - val_acc: 0.7826\n",
            "Epoch 119/150\n",
            "12334/12334 [==============================] - 54s 4ms/step - loss: 0.6784 - acc: 0.7521 - val_loss: 0.6025 - val_acc: 0.7898\n",
            "Epoch 120/150\n",
            "12334/12334 [==============================] - 54s 4ms/step - loss: 0.6774 - acc: 0.7525 - val_loss: 0.6185 - val_acc: 0.7860\n",
            "Epoch 121/150\n",
            "12334/12334 [==============================] - 54s 4ms/step - loss: 0.6781 - acc: 0.7523 - val_loss: 0.6152 - val_acc: 0.7887\n",
            "Epoch 122/150\n",
            "12334/12334 [==============================] - 54s 4ms/step - loss: 0.6773 - acc: 0.7526 - val_loss: 0.6118 - val_acc: 0.7865\n",
            "Epoch 123/150\n",
            "12334/12334 [==============================] - 53s 4ms/step - loss: 0.6765 - acc: 0.7530 - val_loss: 0.6071 - val_acc: 0.7862\n",
            "Epoch 124/150\n",
            "12334/12334 [==============================] - 54s 4ms/step - loss: 0.6762 - acc: 0.7529 - val_loss: 0.6206 - val_acc: 0.7835\n",
            "Epoch 125/150\n",
            "12334/12334 [==============================] - 55s 4ms/step - loss: 0.6758 - acc: 0.7529 - val_loss: 0.6123 - val_acc: 0.7823\n",
            "Epoch 126/150\n",
            "12334/12334 [==============================] - 55s 4ms/step - loss: 0.6755 - acc: 0.7532 - val_loss: 0.6044 - val_acc: 0.7864\n",
            "Epoch 127/150\n",
            "12334/12334 [==============================] - 54s 4ms/step - loss: 0.6751 - acc: 0.7534 - val_loss: 0.6279 - val_acc: 0.7819\n",
            "Epoch 128/150\n",
            "12334/12334 [==============================] - 55s 4ms/step - loss: 0.6749 - acc: 0.7538 - val_loss: 0.6135 - val_acc: 0.7830\n",
            "Epoch 129/150\n",
            "12334/12334 [==============================] - 55s 4ms/step - loss: 0.6754 - acc: 0.7531 - val_loss: 0.6112 - val_acc: 0.7852\n",
            "Epoch 130/150\n",
            "12334/12334 [==============================] - 55s 4ms/step - loss: 0.6735 - acc: 0.7543 - val_loss: 0.5967 - val_acc: 0.7902\n",
            "Epoch 131/150\n",
            "12334/12334 [==============================] - 54s 4ms/step - loss: 0.6738 - acc: 0.7536 - val_loss: 0.6206 - val_acc: 0.7877\n",
            "Epoch 132/150\n",
            "12334/12334 [==============================] - 54s 4ms/step - loss: 0.6733 - acc: 0.7540 - val_loss: 0.6260 - val_acc: 0.7817\n",
            "Epoch 133/150\n",
            "12334/12334 [==============================] - 54s 4ms/step - loss: 0.6735 - acc: 0.7542 - val_loss: 0.5984 - val_acc: 0.7915\n",
            "Epoch 134/150\n",
            "12334/12334 [==============================] - 55s 4ms/step - loss: 0.6726 - acc: 0.7545 - val_loss: 0.6161 - val_acc: 0.7862\n",
            "Epoch 135/150\n",
            "12334/12334 [==============================] - 54s 4ms/step - loss: 0.6726 - acc: 0.7545 - val_loss: 0.5949 - val_acc: 0.7908\n",
            "Epoch 136/150\n",
            "12334/12334 [==============================] - 54s 4ms/step - loss: 0.6719 - acc: 0.7546 - val_loss: 0.6084 - val_acc: 0.7853\n",
            "Epoch 137/150\n",
            "12334/12334 [==============================] - 54s 4ms/step - loss: 0.6733 - acc: 0.7541 - val_loss: 0.6371 - val_acc: 0.7727\n",
            "Epoch 138/150\n",
            "12334/12334 [==============================] - 54s 4ms/step - loss: 0.6726 - acc: 0.7543 - val_loss: 0.6158 - val_acc: 0.7914\n",
            "Epoch 139/150\n",
            "12334/12334 [==============================] - 55s 4ms/step - loss: 0.6709 - acc: 0.7552 - val_loss: 0.5936 - val_acc: 0.7937\n",
            "Epoch 140/150\n",
            "12334/12334 [==============================] - 55s 4ms/step - loss: 0.6710 - acc: 0.7547 - val_loss: 0.6141 - val_acc: 0.7844\n",
            "Epoch 141/150\n",
            "12334/12334 [==============================] - 54s 4ms/step - loss: 0.6714 - acc: 0.7548 - val_loss: 0.6037 - val_acc: 0.7888\n",
            "Epoch 142/150\n",
            "12334/12334 [==============================] - 54s 4ms/step - loss: 0.6701 - acc: 0.7552 - val_loss: 0.6163 - val_acc: 0.7891\n",
            "Epoch 143/150\n",
            "12334/12334 [==============================] - 55s 4ms/step - loss: 0.6703 - acc: 0.7555 - val_loss: 0.5964 - val_acc: 0.7901\n",
            "Epoch 144/150\n",
            "12334/12334 [==============================] - 55s 4ms/step - loss: 0.6711 - acc: 0.7550 - val_loss: 0.5972 - val_acc: 0.7909\n",
            "Epoch 145/150\n",
            "12334/12334 [==============================] - 54s 4ms/step - loss: 0.6702 - acc: 0.7554 - val_loss: 0.6006 - val_acc: 0.7896\n",
            "Epoch 146/150\n",
            "12334/12334 [==============================] - 54s 4ms/step - loss: 0.6692 - acc: 0.7558 - val_loss: 0.6011 - val_acc: 0.7882\n",
            "Epoch 147/150\n",
            "12334/12334 [==============================] - 56s 5ms/step - loss: 0.6689 - acc: 0.7558 - val_loss: 0.6228 - val_acc: 0.7880\n",
            "Epoch 148/150\n",
            "12334/12334 [==============================] - 55s 4ms/step - loss: 0.6684 - acc: 0.7560 - val_loss: 0.6078 - val_acc: 0.7864\n",
            "Epoch 149/150\n",
            "12334/12334 [==============================] - 56s 5ms/step - loss: 0.6685 - acc: 0.7558 - val_loss: 0.6048 - val_acc: 0.7863\n",
            "Epoch 150/150\n",
            "12334/12334 [==============================] - 55s 4ms/step - loss: 0.6688 - acc: 0.7560 - val_loss: 0.6096 - val_acc: 0.7881\n"
          ]
        },
        {
          "output_type": "execute_result",
          "data": {
            "text/plain": [
              "<keras.callbacks.History at 0x7fa00ccba810>"
            ]
          },
          "metadata": {},
          "execution_count": 85
        }
      ]
    },
    {
      "cell_type": "markdown",
      "metadata": {
        "id": "5cY-xFcrKG8N"
      },
      "source": [
        "##plot hist "
      ]
    },
    {
      "cell_type": "code",
      "metadata": {
        "colab": {
          "base_uri": "https://localhost:8080/",
          "height": 282
        },
        "id": "Ll1zu9Mknyhi",
        "outputId": "28e4733e-f3dd-43b7-8468-b22b72c348bb"
      },
      "source": [
        "hist_df=pd.DataFrame(model.history.history)\n",
        "hist_df.plot()"
      ],
      "execution_count": null,
      "outputs": [
        {
          "output_type": "execute_result",
          "data": {
            "text/plain": [
              "<matplotlib.axes._subplots.AxesSubplot at 0x7fa00e82b890>"
            ]
          },
          "metadata": {},
          "execution_count": 86
        },
        {
          "output_type": "display_data",
          "data": {
            "image/png": "[encoded data removed]",
            "text/plain": [
              "<Figure size 432x288 with 1 Axes>"
            ]
          },
          "metadata": {
            "needs_background": "light"
          }
        }
      ]
    },
    {
      "cell_type": "markdown",
      "metadata": {
        "id": "bEhIo0wDKTYn"
      },
      "source": [
        "##test the model on the test dataset "
      ]
    },
    {
      "cell_type": "code",
      "metadata": {
        "id": "yqICxl5Mn4ve"
      },
      "source": [
        "#test the model on the test dataset \n",
        "pred=model.predict(x_test)"
      ],
      "execution_count": null,
      "outputs": []
    },
    {
      "cell_type": "code",
      "metadata": {
        "colab": {
          "base_uri": "https://localhost:8080/"
        },
        "id": "X6P-Nr1xoAOz",
        "outputId": "2059c5b3-2f3a-4fa0-da58-97f93937e220"
      },
      "source": [
        "tf.argmax(pred,axis=-1)"
      ],
      "execution_count": null,
      "outputs": [
        {
          "output_type": "execute_result",
          "data": {
            "text/plain": [
              "<tf.Tensor: shape=(87461,), dtype=int64, numpy=array([2, 1, 5, ..., 6, 5, 3])>"
            ]
          },
          "metadata": {},
          "execution_count": 88
        }
      ]
    },
    {
      "cell_type": "code",
      "metadata": {
        "colab": {
          "base_uri": "https://localhost:8080/"
        },
        "id": "-Ra7RB0KoDxy",
        "outputId": "143c0378-8aaa-4b0b-ed70-afcf12e89e7d"
      },
      "source": [
        "Y_test"
      ],
      "execution_count": null,
      "outputs": [
        {
          "output_type": "execute_result",
          "data": {
            "text/plain": [
              "38266      2\n",
              "818584     0\n",
              "4232562    5\n",
              "3105870    3\n",
              "3472742    1\n",
              "          ..\n",
              "887687     3\n",
              "3918352    3\n",
              "2778939    6\n",
              "2450242    5\n",
              "2311381    3\n",
              "Name: class, Length: 87461, dtype: int64"
            ]
          },
          "metadata": {},
          "execution_count": 89
        }
      ]
    },
    {
      "cell_type": "markdown",
      "metadata": {
        "id": "6lHf3Z9TKa63"
      },
      "source": [
        "##Evaluating Model\n"
      ]
    },
    {
      "cell_type": "code",
      "metadata": {
        "colab": {
          "base_uri": "https://localhost:8080/"
        },
        "id": "LwjwrtoPoGtJ",
        "outputId": "4eb1a016-34b2-4947-c863-e88268049efc"
      },
      "source": [
        "acc=tf.reduce_mean(tf.metrics.categorical_accuracy(Y_test_hot,pred))\n",
        "print('acc:',acc)\n",
        "loss=tf.reduce_mean(tf.metrics.categorical_crossentropy(Y_test_hot,pred))\n",
        "print('loss:',loss)\n",
        "pr=metrics.precision_score(Y_test,np.argmax(pred,-1),average='weighted')\n",
        "print('pr:',pr)\n",
        "re=metrics.recall_score(Y_test,np.argmax(pred,-1),average='weighted')\n",
        "print('re:',re)\n",
        "f1 =metrics.f1_score(Y_test,np.argmax(pred,-1),average='weighted')\n",
        "print('f1:',f1)\n",
        "\n",
        "confusion_matrix=metrics.confusion_matrix(Y_test,np.argmax(pred,-1))"
      ],
      "execution_count": null,
      "outputs": [
        {
          "output_type": "stream",
          "name": "stdout",
          "text": [
            "acc: tf.Tensor(0.7931078, shape=(), dtype=float32)\n",
            "loss: tf.Tensor(0.59889054, shape=(), dtype=float32)\n",
            "pr: 0.769762678486572\n",
            "re: 0.7931077851842535\n",
            "f1: 0.7667357108325665\n"
          ]
        }
      ]
    },
    {
      "cell_type": "markdown",
      "metadata": {
        "id": "S7ccZScpKlcO"
      },
      "source": [
        "## plot confusion matrix"
      ]
    },
    {
      "cell_type": "code",
      "metadata": {
        "colab": {
          "base_uri": "https://localhost:8080/",
          "height": 608
        },
        "id": "M8ORMeBWoK8w",
        "outputId": "7b721cee-0a8f-4a88-88df-be5891733614"
      },
      "source": [
        "import seaborn as sns\n",
        "plt.figure(figsize=(10,10))\n",
        "sns.heatmap(confusion_matrix,annot=True,)"
      ],
      "execution_count": null,
      "outputs": [
        {
          "output_type": "execute_result",
          "data": {
            "text/plain": [
              "<matplotlib.axes._subplots.AxesSubplot at 0x7fa00c98e490>"
            ]
          },
          "metadata": {},
          "execution_count": 91
        },
        {
          "output_type": "display_data",
          "data": {
            "image/png": "[encoded data removed]",
            "text/plain": [
              "<Figure size 720x720 with 2 Axes>"
            ]
          },
          "metadata": {
            "needs_background": "light"
          }
        }
      ]
    },
    {
      "cell_type": "code",
      "metadata": {
        "id": "QhJqBL2JP_BA"
      },
      "source": [
        ""
      ],
      "execution_count": null,
      "outputs": []
    }
  ]
}